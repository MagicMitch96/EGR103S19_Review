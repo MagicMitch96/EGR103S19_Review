{
 "cells": [
  {
   "cell_type": "code",
   "execution_count": null,
   "metadata": {},
   "outputs": [],
   "source": [
    "import math as m\n",
    "import numpy as np\n",
    "import matplotlib.pyplot as plt\n",
    "from mpl_toolkits.mplot3d import axes3d\n",
    "import scipy.optimize as opt"
   ]
  },
  {
   "cell_type": "markdown",
   "metadata": {},
   "source": [
    "# EGR 103 Spring 2019\n",
    "# Exam 2 Review"
   ]
  },
  {
   "cell_type": "markdown",
   "metadata": {
    "heading_collapsed": true
   },
   "source": [
    "## Overview: Exam 1"
   ]
  },
  {
   "cell_type": "markdown",
   "metadata": {
    "hidden": true
   },
   "source": [
    "### Commonly missed questions"
   ]
  },
  {
   "cell_type": "code",
   "execution_count": null,
   "metadata": {
    "hidden": true
   },
   "outputs": [],
   "source": [
    "a = 17.0\n",
    "b = np.array([30, 40, 20, 50])\n",
    "c = 'Yay for Tests'\n",
    "d = [[1, 2], [3, 4], [5], [6, 7, 8, 9]]\n",
    "g = a // 5\n",
    "h = a % 5\n",
    "k = b[1:]\n",
    "#type(g)\n",
    "#type(h)\n",
    "#type(k)\n",
    "n = c[6:3:-1] #val, type\n",
    "#type(n)\n",
    "o = max(c)  #val\n",
    "s = d[1][1] #val\n",
    "t = d[2]*2  #val"
   ]
  },
  {
   "cell_type": "code",
   "execution_count": null,
   "metadata": {
    "hidden": true
   },
   "outputs": [],
   "source": [
    "#Problem 4.1\n",
    "#Most common errors included: printing rolls incorrectly, looping incorrectly, and not returning\n",
    "#Problem 5 3x3\n",
    "#About a third of the class got this completely wrong\n",
    "#Problem 5 Least Squares\n"
   ]
  },
  {
   "cell_type": "markdown",
   "metadata": {
    "heading_collapsed": true
   },
   "source": [
    "## Logical Masks"
   ]
  },
  {
   "cell_type": "markdown",
   "metadata": {
    "hidden": true
   },
   "source": [
    "- Parentheses are critical!\n",
    "- & and | are critical!\n",
    "\n",
    "When do you use logical masks? Most obvious use case is for a piecewise function, but it can be used to assign a desired value (mask) to a subset of values in a list or array (satisfying some arbitrary logical statement)"
   ]
  },
  {
   "cell_type": "markdown",
   "metadata": {
    "hidden": true
   },
   "source": [
    "Example:\n",
    "\n",
    "The Heaviside function $H(x)$ (also known as the unit step function) can be represented either as:\n",
    "\n",
    "$$ H(x) = \\left\\{\n",
    "        \\begin{array}{ll}\n",
    "            0 & \\quad x < 0 \\\\\n",
    "            1 & \\quad x \\geq 0\n",
    "        \\end{array}\n",
    "    \\right.\n",
    "    $$\n",
    "    \n",
    "or as \n",
    "\n",
    "$$ H(x) = \\left\\{\n",
    "        \\begin{array}{ll}\n",
    "            0 & \\quad x < 0 \\\\\n",
    "            1/2 & \\quad x = 0 \\\\\n",
    "            1 & \\quad x > 0\n",
    "        \\end{array}\n",
    "    \\right.\n",
    "    $$\n",
    "\n",
    "A logical mask could be used to represent $H(x)$"
   ]
  },
  {
   "cell_type": "code",
   "execution_count": null,
   "metadata": {
    "hidden": true
   },
   "outputs": [],
   "source": [
    "x = np.linspace(-5, 5, 100)\n",
    "hMask0 = (x<0)\n",
    "hMask1 = (x>=0)\n",
    "hVal0 = 0\n",
    "hVal1 = 1\n",
    "heaviside = hMask0*hVal0 + hMask1*hVal1\n",
    "plt.plot(x, heaviside, 'o')"
   ]
  },
  {
   "cell_type": "markdown",
   "metadata": {
    "heading_collapsed": true
   },
   "source": [
    "## Dictionaries"
   ]
  },
  {
   "cell_type": "markdown",
   "metadata": {
    "hidden": true
   },
   "source": [
    "Example: A dictionary of people you know, with how old they are\n",
    "\n",
    "|  Friend | Age |\n",
    "|:-------:|:---:|\n",
    "| Andria  |  20 |\n",
    "| Samuel  |  19 |\n",
    "| Noreen  |  20 |\n",
    "| Lourdes |  22 |\n",
    "| Charley |  23 |"
   ]
  },
  {
   "cell_type": "code",
   "execution_count": null,
   "metadata": {
    "hidden": true
   },
   "outputs": [],
   "source": [
    "# Create a dictionary\n",
    "friends = {'Andria': 20,\n",
    "           'Samuel': 19,\n",
    "           'Noreen': 20,\n",
    "           'Lourdes': 22,\n",
    "           'Charley': 23}\n",
    "# Add a new friend:\n",
    "friends['Teddy'] = 22\n",
    "# Update value: Samuel had a birthday!\n",
    "friends['Samuel']+=1\n",
    "'Andria' in friends\n",
    "'James' in friends\n",
    "friends.setdefault('Joe', 40)\n",
    "friends.setdefault('Andria', 40)\n"
   ]
  },
  {
   "cell_type": "markdown",
   "metadata": {},
   "source": [
    "## Strings and Files"
   ]
  },
  {
   "cell_type": "code",
   "execution_count": null,
   "metadata": {
    "code_folding": []
   },
   "outputs": [],
   "source": [
    "st = 'Alphabet'\n",
    "## Given a letter, what is the ASCII representation?\n",
    "for ch in st:\n",
    "    print(ord(ch))\n",
    "## Given a number, what is the ASCII character?\n",
    "for n in range(0,255):\n",
    "    print(n, chr(n))"
   ]
  },
  {
   "cell_type": "code",
   "execution_count": 13,
   "metadata": {},
   "outputs": [
    {
     "name": "stdout",
     "output_type": "stream",
     "text": [
      "1845 RAVEN Edgar Poe upon midnight while pondered, and Over a and volume forgotten While nodded, napping, there a As some gently rapping my door. some I \"tapping my door- this, nothing Ah, I it in bleak And separate ember its upon floor. I the vainly had to From books of sorrow the Lenore- the and maiden the name Nameless for And silken uncertain of purple Thrilled filled with terrors felt So now, still beating my I repeating, some entreating at chamber Some visitor entrance my door;- it and more.\" my grew hesitating no \"Sir,\" I, Madam, your I But fact I napping, so you rapping, so you tapping, at chamber That scarce sure heard here opened the Darkness and more. into darkness long stood wondering, Doubting, dreams mortals dared dream But silence unbroken, the gave token, the word spoken the word, This whispered, an murmured the \"Lenore!\"- this, nothing Back the turning, my within burning, again heard tapping louder before. said \"surely is at window Let see, what is, this explore- my be a and mystery 'Tis wind nothing Open I the when, many flirt flutter, there a raven the days yore; the obeisance he; a stopped stayed But, mien lord lady, above chamber Perched a of just my door- and and more. this bird my fancy smiling, the and decorum the it \"Though crest shorn shaven, I \"art no Ghastly and raven from Nightly Tell what lordly is the Plutonian Quoth Raven, Much marvelled ungainly to discourse plainly, its little little bore; we help that living being yet blest seeing above chamber Bird beast the bust his door, such as But raven, lonely the bust, only one as his in one he outpour. further he not feather he Till scarcely than \"other have before- the he leave as hopes flown Then bird \"Nevermore.\" at stillness by so spoken, said \"what utters its stock store, from unhappy whom Disaster fast followed till songs burden Till dirges his that burden Of nevermore'.\" the still all fancy smiling, I a seat front bird, bust door; upon velvet I myself linking unto thinking this bird yore- this ungainly, gaunt ominous of Meant croaking This sat in but syllable To fowl fiery now into bosom's This more sat with head ease On cushion's lining the gloated But velvet lining the gloating She press, nevermore! methought air denser, from unseen Swung Seraphim footfalls on tufted \"Wretch,\" cried, God lent by angels hath thee respite nepenthe, thy of Quaff, quaff kind and this Lenore!\" the \"Nevermore.\" said \"thing evil!- still, bird devil!- Tempter or tempest thee ashore, yet undaunted, this land On home horror tell truly, implore- there- there in tell tell I Quoth Raven, \"Prophet!\" I, of prophet if or By Heaven bends us- that we adore- this with laden within distant It clasp sainted whom angels Lenore- a and maiden the name Quoth Raven, \"Be word sign parting, or I upstarting- thee into tempest the Plutonian Leave black as token that thy hath Leave loneliness quit bust my Take beak out heart, take form off door!\" the \"Nevermore.\" the never still sitting, is On pallid of just my door; his have the of demon's is And lamplight him throws shadow the And soul out shadow lies on floor be nevermore! END- \n"
     ]
    }
   ],
   "source": [
    "# File I/O practice: read in one file, write every other word out to another file\n",
    "def filecp_half(fOld):\n",
    "    fTXT = open(fOld, 'r')\n",
    "    fNew = fOld.split('.')\n",
    "    fNewName = fNew[0] + '_cpy.txt'\n",
    "    fNew = open(fNewName ,'w')\n",
    "    flag = True\n",
    "    for line in fTXT:\n",
    "        for word in line.split():\n",
    "            if flag:\n",
    "                fNew.write(word + ' ')\n",
    "                flag = False\n",
    "            else:\n",
    "                flag = True\n",
    "    fTXT.close()         \n",
    "    return fNewName\n",
    "\n",
    "\n",
    "f = open(filecp_half('the_raven.txt'))\n",
    "for line in f:\n",
    "    print(line)"
   ]
  },
  {
   "cell_type": "code",
   "execution_count": 28,
   "metadata": {},
   "outputs": [],
   "source": [
    "# Loading data from file -- typically either .dat or .csv\n",
    "# Data from FBI report on crime, 1997-2016\n",
    "# First column: year\n",
    "# Second column: Population\n",
    "# Third: total number of Violent crimes\n",
    "# Fourth: Number of Murders\n",
    "# Fifth: Number of Robberies\n",
    "data = np.loadtxt('fbiData.csv',skiprows=1, delimiter=',')\n",
    "\n",
    "#Split this into row vectors\n",
    "#Plot population vs. year\n",
    "#Plot violent crime vs. year\n",
    "#Plot violent crime vs. population\n",
    "#Plot murder v. robbery\n"
   ]
  },
  {
   "cell_type": "markdown",
   "metadata": {},
   "source": [
    "## Linear Algebra"
   ]
  },
  {
   "cell_type": "markdown",
   "metadata": {},
   "source": [
    "### Calculate Determinants\n",
    "\n",
    "2x2 matrices:\n",
    "\n",
    "$$A = \\begin{bmatrix} \n",
    "a & b \\\\\n",
    "c & d \n",
    "\\end{bmatrix}$$\n",
    "\n",
    "$$\\det(A) = ad - bc $$\n",
    "\n",
    "3x3 matrices:\n",
    "\n",
    "$$B = \\begin{bmatrix} \n",
    "a & b & c\\\\\n",
    "d & e & f\\\\\n",
    "g & h & i\n",
    "\\end{bmatrix}$$\n",
    "\n",
    "\n",
    "$$\\det(B) = a\\times\\det\\begin{pmatrix} \n",
    "e & f \\\\\n",
    "h & i \n",
    "\\end{pmatrix} -\n",
    "b\\times\\det\\begin{pmatrix} \n",
    "d & f \\\\\n",
    "g & i \n",
    "\\end{pmatrix} +\n",
    "c\\times\\det\\begin{pmatrix} \n",
    "d & e \\\\\n",
    "g & h \n",
    "\\end{pmatrix}$$\n",
    "\n",
    "$$\\det(B) = a(ei-fh)-b(di-fg)+c(dh-eg)$$"
   ]
  },
  {
   "cell_type": "markdown",
   "metadata": {},
   "source": [
    "### Inverses\n",
    "\n",
    "2x2 matrix:\n",
    "\n",
    "$$A = \\begin{bmatrix} \n",
    "a & b \\\\\n",
    "c & d \n",
    "\\end{bmatrix}$$\n",
    "\n",
    "$$ A^{-1} = \\frac{1}{\\det(A)}\\begin{bmatrix} \n",
    "d & -b \\\\\n",
    "-c & a \n",
    "\\end{bmatrix}$$\n"
   ]
  },
  {
   "cell_type": "code",
   "execution_count": null,
   "metadata": {},
   "outputs": [],
   "source": [
    "A = np.array([[15, 5, 10], \n",
    "              [1, 2, 6],\n",
    "              [5, 9, -3]])\n",
    "#Calculate determinant and inverse of A\n",
    "detA = #FILL IN\n",
    "invA = #FILL IN"
   ]
  },
  {
   "cell_type": "markdown",
   "metadata": {},
   "source": [
    "Example: Equations to Matrix form (From Fall 2018 Exam 2)\n",
    "\n",
    "Three masses $M_i$ are at stationary positions $x_i$ and are connected by a series of large springs with known spring constants $K_1$ through $K_4$. The position of the last mass, $x_3$, is known but neither the positions of the first two masses ($x_1$ and $x_2$) are known nor is the amount of force $F$ required to get mass 3 where it is. The equilibrium equations for the positions of the masses as functions of the applied forces are:\n",
    "\n",
    "$$\\begin{align*}\n",
    "K_1x_1+K_2x_1 - K_2x_2 &= 0\\\\\n",
    "-K_2x_1+K_2x_2+K_3x_2-K_3x_3&=0\\\\\n",
    "-K_3x_2+K_3x_3+K_4x_3-F&=0\n",
    "\\end{align*}$$\n",
    "\n",
    "Rearrange and write the above in matrix form."
   ]
  },
  {
   "cell_type": "markdown",
   "metadata": {},
   "source": [
    "FILL IN HERE"
   ]
  },
  {
   "cell_type": "code",
   "execution_count": null,
   "metadata": {},
   "outputs": [],
   "source": [
    "# Solving the above system of equations: Assume K1=5, K2=1, K3=2, K4=15\n",
    "# Setup in form: Ax = b\n",
    "A = #FILL IN\n",
    "b = #FILL IN\n",
    "\n",
    "x = #SOLVE HERE"
   ]
  },
  {
   "cell_type": "markdown",
   "metadata": {},
   "source": [
    "### Sweep through possible parameter changes\n"
   ]
  },
  {
   "cell_type": "markdown",
   "metadata": {},
   "source": [
    "### Norms\n",
    "\n",
    "#### 1D Arrays (Vectors)\n",
    "\n",
    "- 1-Norm: $$||\\vec{v}||_1 = \\sum_{i=1}^n|x_i|$$\n",
    "- 2-Norm: $$||\\vec{v}||_2 = \\sqrt{\\sum_{i=1}^n x_i^2}$$\n",
    "- $\\inf$-Norm: $$||\\vec{v}||_{\\inf} = \\underset{1\\leq i\\leq n}{\\max} |x_i|$$\n",
    "\n",
    "#### 2D Arrays (Matrices)\n",
    "\n",
    "- 1-Norm: $$||A||_1 = \\max_{j}\\sum_{i=1}^n|a_{ij}|$$\n",
    "- $\\inf$-Norm: $$||A||_{\\inf} = \\max_i \\sum_{j=1}^n|a_{ij}|$$\n",
    "- Frobenius-Norm: $$||A||_{fro} = \\sqrt{\\sum_{j=1}^m\\sum_{i=1}^n a_{ij}^2}$$\n",
    "\n",
    "What are these? 1-Norm is the maximum column sum, Inf-Norm is maximum row sum. 2-norm "
   ]
  },
  {
   "cell_type": "code",
   "execution_count": null,
   "metadata": {},
   "outputs": [],
   "source": [
    "# Norms and Condition Numbers\n",
    "# Computing these is easy: just use linalg\n",
    "\n",
    "v = np.array([1, 2, 3, 4, 5, 6])\n",
    "v1norm = np.linalg.norm(v, ord=1)\n",
    "v2norm =\n",
    "vINFnorm =\n",
    "\n",
    "A = np.array([[1, 2, 3],\n",
    "              [4, 5, 6],\n",
    "              [7, 8, 9]])\n",
    "A1norm = \n",
    "AFROnorm =\n",
    "AINFnorm =\n",
    "A2norm =\n"
   ]
  },
  {
   "cell_type": "markdown",
   "metadata": {},
   "source": [
    "### Condition Numbers\n",
    "\n",
    "$$\\mathrm{cond}(A) = ||A||\\cdot||A^{-1}||$$\n",
    "\n",
    "Take the matrix, calculate the inverse, then find the condition number of the original ($A$) and inverse ($A^{-1}$) and multiply them. \n",
    "\n",
    "What is a condition number? Condition numbers have to deal with accuracy of your system.\n",
    "\n",
    "_From Pundit:_\n",
    "\n",
    "A condition number of a matrix gives an idea of the sensitivity of the solution relative to the sensitivity of the measurements. The larger the condition number, the more difficult the geometry and thus the more prone to error the results are to measurement errors. The rule of thumb is that your final answer will have as many digits of precision as the number of digits in your measurements minus the base-10 logarithm of the condition number.\n",
    "\n",
    "For instance, if you take measurements to 5 significant figures and your system has a condition number of 100, you expectation is that your solution is accurate to $5-\\log_{10}(100)=5-2=3$ digits.\n",
    "\n",
    "You generally report ranges of digits if the condition number is not an integer power of 10. For instance, if you know your measurements to 9 figures and your condition number of 485, $\\log_{10}(485)=2.69$ so you will lose between 2 and 3 digits of precision meaning you know your final answers to within 6-7 digits (9 minus 2 or 3)."
   ]
  },
  {
   "cell_type": "code",
   "execution_count": null,
   "metadata": {},
   "outputs": [],
   "source": [
    "#Calculating condition numbers\n",
    "\n",
    "A = np.array([[1, 2, 3],\n",
    "              [4, 5, 6],\n",
    "              [7, 8, 9]])\n",
    "aCond1 = np.linalg.cond(A, p=np.inf)\n",
    "aCond2 =\n",
    "aCondInf =\n",
    "aCondFro ="
   ]
  },
  {
   "cell_type": "markdown",
   "metadata": {},
   "source": [
    "- Write code that finds coefficients for polynomial, general linear, and nonlinear fits; you will be given the following:\n",
    " - For polynomial fits, the order of the fit\n",
    " - For general linear or nonlinear, the model equation\n",
    "- Write code that determines the sum of the squares of data residuals for a data set as well as both the sum of the squares of the estimate residuals and the coefficient of determination for a given fit\n",
    "- Be able to describe if a fit is mathematically good based on the $r^2$ value\n",
    " - $r^2>0.95$ is a \"good fit\"\n",
    " - $r^2<0$ means the fit is worse than merely picking the average value of the data"
   ]
  },
  {
   "cell_type": "markdown",
   "metadata": {},
   "source": [
    "## Curve Fitting"
   ]
  },
  {
   "cell_type": "markdown",
   "metadata": {},
   "source": [
    "### Linear Regressions"
   ]
  },
  {
   "cell_type": "markdown",
   "metadata": {},
   "source": [
    "### Nonlinear Regression"
   ]
  },
  {
   "cell_type": "markdown",
   "metadata": {},
   "source": [
    "## Surfaces"
   ]
  },
  {
   "cell_type": "markdown",
   "metadata": {},
   "source": [
    "- The imports will be given to you\n",
    "- You need to know how to properly create a figure and an axis for doing 3D projections\n",
    "- Know how `np.meshgrid()` works, what the arguments are, and what it returns\n",
    "- Know how `ax.plot_wireframe()` and `ax.plot_surface()` work\n",
    "- Know how to use `ax.set()` for setting axis labels, axis limits, and axis tick locations.\n",
    "- For the test, the surfaces will be functions of x and y and will be plotted using Cartesian coordinates.\n",
    "- Neither colormaps (cmap) nor facecolors nor colorbars will be tested"
   ]
  },
  {
   "cell_type": "markdown",
   "metadata": {},
   "source": [
    "Surface plots are used for three-dimensional functions -- instead of $y(x)$ we have $z(x,y)$"
   ]
  },
  {
   "cell_type": "code",
   "execution_count": null,
   "metadata": {},
   "outputs": [],
   "source": [
    "x = np.linspace(-1, 1, 100)\n",
    "y = np.linspace(-1, 1, 100)\n",
    "X, Y = np.meshgrid(x, y)\n",
    "Z = X**2 + Y**2\n",
    "\n",
    "# %% Get figure ready\n",
    "fig = plt.figure(num=1)\n",
    "fig.clf()\n",
    "ax = fig.add_subplot(1,1,1, projection='3d')\n",
    "ax.plot_surface(X,Y,Z)"
   ]
  },
  {
   "cell_type": "markdown",
   "metadata": {},
   "source": [
    "## Finding Roots"
   ]
  },
  {
   "cell_type": "markdown",
   "metadata": {},
   "source": [
    "- You will only be required to find roots on continuous functions for which you will be given sufficient information to find a bracket.\n",
    "- You will only be required to understand how `opt.brentq()` works to find roots using a closed method.\n",
    "- Remember that a valid bracket consists of two independent values for which a function has opposite signs.\n",
    "- `opt.brentq()` can only find one root at a time; if you are finding multiple roots, you either need multiple commands or a loop\n",
    "- If you are trying to determine where a function is equal to a value other than 0, you can create a lambda function for that. For instance, to find where some function f is equal to 8 between x values of 1 and 3, you could write:\n",
    "\n",
    "```rootloc = opt.brentq(lambda thing: f(thing)-8, 1, 3)```"
   ]
  },
  {
   "cell_type": "markdown",
   "metadata": {},
   "source": [
    "## Finding Extrema"
   ]
  },
  {
   "cell_type": "markdown",
   "metadata": {},
   "source": [
    "- For 1D functions, you will only be required to find extrema on continuous functions for which you will be given sufficient information to decide boundaries - this means understanding how `opt.fminbound()` works to find bounded minima and what slight changes to make to find maxima.\n",
    "- For 2D functions, you will only be required to find extrema on continuous functions for which you will be given sufficient information to decide initial guesses - this means understanding how `opt.fmin()` works to find unbounded minima on surfaces, what slight changes to make to find maxima, and how to use * to have a function call split a list into component parts.\n",
    "- `opt.fminbound()` and `opt.fmin()` can only find one extremum at a time; if you are finding multiple extrema, you either need multiple commands or a loop\n",
    "- If you are finding a maximum, remember that you will really be minimizing the negative version of a function. And you cannot simply put - in front of the function handle; instead, create a lambda function in the argument -- for example:\n",
    "\n",
    "```maxloc = opt.fminbound(lambda blah: -f(blah), -1, 2)```"
   ]
  },
  {
   "cell_type": "code",
   "execution_count": null,
   "metadata": {},
   "outputs": [],
   "source": []
  },
  {
   "cell_type": "markdown",
   "metadata": {},
   "source": [
    "# Exercises"
   ]
  },
  {
   "cell_type": "markdown",
   "metadata": {
    "slideshow": {
     "slide_type": "-"
    }
   },
   "source": [
    "## Exercise 1 –– Basic Strings\n",
    "\n",
    "(From w3resource.com)\n",
    "\n",
    "Write a python function, ```letter_count``` to return the count of each letter in a string.\n",
    "\n",
    "Input: A string of any length (len$\\geq$0)\n",
    "\n",
    "Output: A reasonable data structure (either a dictionary or a list).\n",
    "\n",
    "Extra: Your function should return a data structure with _only_ the letters present in the string. "
   ]
  },
  {
   "cell_type": "code",
   "execution_count": null,
   "metadata": {},
   "outputs": [],
   "source": [
    "def letter_count(str):\n",
    "    "
   ]
  },
  {
   "cell_type": "markdown",
   "metadata": {},
   "source": [
    "## Exercise 2 –– Strings and Files\n",
    "\n",
    "Write a function, ```whole_alphabet``` that takes in a file name, and returns how many letters need to be read before encountering every letter in the alphabet. Ignore letter case. \n",
    "\n",
    "Input: file name\n",
    "\n",
    "Output: index of letter that gives the whole alphabet, or -1 if not all letters present.\n"
   ]
  },
  {
   "cell_type": "code",
   "execution_count": null,
   "metadata": {},
   "outputs": [],
   "source": []
  }
 ],
 "metadata": {
  "celltoolbar": "Slideshow",
  "kernelspec": {
   "display_name": "Python 3",
   "language": "python",
   "name": "python3"
  },
  "varInspector": {
   "cols": {
    "lenName": 16,
    "lenType": 16,
    "lenVar": 40
   },
   "kernels_config": {
    "python": {
     "delete_cmd_postfix": "",
     "delete_cmd_prefix": "del ",
     "library": "var_list.py",
     "varRefreshCmd": "print(var_dic_list())"
    },
    "r": {
     "delete_cmd_postfix": ") ",
     "delete_cmd_prefix": "rm(",
     "library": "var_list.r",
     "varRefreshCmd": "cat(var_dic_list()) "
    }
   },
   "types_to_exclude": [
    "module",
    "function",
    "builtin_function_or_method",
    "instance",
    "_Feature"
   ],
   "window_display": false
  }
 },
 "nbformat": 4,
 "nbformat_minor": 2
}
