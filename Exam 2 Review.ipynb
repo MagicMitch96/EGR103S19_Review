{
 "cells": [
  {
   "cell_type": "code",
   "execution_count": 1,
   "metadata": {},
   "outputs": [],
   "source": [
    "import math as m\n",
    "import numpy as np\n",
    "import matplotlib.pyplot as plt\n",
    "from mpl_toolkits.mplot3d import axes3d\n",
    "import scipy.optimize as opt"
   ]
  },
  {
   "cell_type": "markdown",
   "metadata": {
    "slideshow": {
     "slide_type": "slide"
    }
   },
   "source": [
    "# EGR 103 Spring 2019\n",
    "# Exam 2 Review"
   ]
  },
  {
   "cell_type": "markdown",
   "metadata": {
    "slideshow": {
     "slide_type": "slide"
    }
   },
   "source": [
    "## Overview: Exam 1"
   ]
  },
  {
   "cell_type": "markdown",
   "metadata": {
    "slideshow": {
     "slide_type": "subslide"
    }
   },
   "source": [
    "### Commonly missed questions"
   ]
  },
  {
   "cell_type": "code",
   "execution_count": 17,
   "metadata": {
    "slideshow": {
     "slide_type": "fragment"
    }
   },
   "outputs": [
    {
     "data": {
      "text/plain": [
       "[[5], [5]]"
      ]
     },
     "execution_count": 17,
     "metadata": {},
     "output_type": "execute_result"
    }
   ],
   "source": [
    "a = 17.0\n",
    "b = np.array([30, 40, 20, 50])\n",
    "c = 'Yay for Tests'\n",
    "d = [[1, 2], [3, 4], [5], [6, 7, 8, 9]]\n",
    "'''\n",
    "g = a // 5\n",
    "h = a % 5\n",
    "k = b[1:]\n",
    "#type(g)\n",
    "#type(h)\n",
    "#type(k)\n",
    "n = c[6:3:-1] #val, type\n",
    "#type(n)\n",
    "o = max(c)  #val\n",
    "s = d[1][1] #val\n",
    "t = d[2]*2  #val\n",
    "'''\n",
    "t = [d[2]]*2\n",
    "t"
   ]
  },
  {
   "cell_type": "code",
   "execution_count": null,
   "metadata": {
    "slideshow": {
     "slide_type": "fragment"
    }
   },
   "outputs": [],
   "source": [
    "#Problem 4.1 \n",
    "#Most common errors included: printing rolls incorrectly, looping incorrectly, and not returning\n",
    "#Problem 5 3x3\n",
    "#About a third of the class got this completely wrong\n",
    "#Problem 5 Least Squares"
   ]
  },
  {
   "cell_type": "markdown",
   "metadata": {
    "slideshow": {
     "slide_type": "slide"
    }
   },
   "source": [
    "## Logical Masks"
   ]
  },
  {
   "cell_type": "markdown",
   "metadata": {
    "slideshow": {
     "slide_type": "fragment"
    }
   },
   "source": [
    "- Parentheses are critical!\n",
    "- & and | are critical!\n",
    "\n",
    "When do you use logical masks? Most obvious use case is for a piecewise function, but it can be used to assign a desired value (mask) to a subset of values in a list or array (satisfying some arbitrary logical statement)"
   ]
  },
  {
   "cell_type": "markdown",
   "metadata": {
    "slideshow": {
     "slide_type": "subslide"
    }
   },
   "source": [
    "Example:\n",
    "\n",
    "The Heaviside function $H(x)$ (also known as the unit step function) can be represented either as:\n",
    "\n",
    "$$ H(x) = \\left\\{\n",
    "        \\begin{array}{ll}\n",
    "            0 & \\quad x < 0 \\\\\n",
    "            1 & \\quad x \\geq 0\n",
    "        \\end{array}\n",
    "    \\right.\n",
    "    $$\n",
    "    \n",
    "or as \n",
    "\n",
    "$$ H(x) = \\left\\{\n",
    "        \\begin{array}{ll}\n",
    "            0 & \\quad x < 0 \\\\\n",
    "            1/2 & \\quad x = 0 \\\\\n",
    "            1 & \\quad x > 0\n",
    "        \\end{array}\n",
    "    \\right.\n",
    "    $$\n",
    "\n",
    "A logical mask could be used to represent $H(x)$"
   ]
  },
  {
   "cell_type": "code",
   "execution_count": 18,
   "metadata": {
    "slideshow": {
     "slide_type": "fragment"
    }
   },
   "outputs": [
    {
     "data": {
      "text/plain": [
       "[<matplotlib.lines.Line2D at 0x11e4cc668>]"
      ]
     },
     "execution_count": 18,
     "metadata": {},
     "output_type": "execute_result"
    },
    {
     "data": {
      "image/png": "[encoded data removed]",
      "text/plain": [
       "<Figure size 432x288 with 1 Axes>"
      ]
     },
     "metadata": {
      "needs_background": "light"
     },
     "output_type": "display_data"
    }
   ],
   "source": [
    "x = np.linspace(-5, 5, 100)\n",
    "hMask0 = (x<0)\n",
    "hMask1 = (x>=0)\n",
    "hVal0 = 0\n",
    "hVal1 = 1\n",
    "heaviside = hMask0*hVal0 + hMask1*hVal1\n",
    "plt.plot(x, heaviside, 'o')"
   ]
  },
  {
   "cell_type": "markdown",
   "metadata": {
    "slideshow": {
     "slide_type": "slide"
    }
   },
   "source": [
    "## Dictionaries"
   ]
  },
  {
   "cell_type": "markdown",
   "metadata": {
    "slideshow": {
     "slide_type": "subslide"
    }
   },
   "source": [
    "Example: A dictionary of people you know, with how old they are\n",
    "\n",
    "|  Friend | Age |\n",
    "|:-------:|:---:|\n",
    "| Andria  |  20 |\n",
    "| Samuel  |  19 |\n",
    "| Noreen  |  20 |\n",
    "| Lourdes |  22 |\n",
    "| Charley |  23 |"
   ]
  },
  {
   "cell_type": "code",
   "execution_count": 36,
   "metadata": {
    "slideshow": {
     "slide_type": "fragment"
    }
   },
   "outputs": [
    {
     "name": "stdout",
     "output_type": "stream",
     "text": [
      "Andria\n",
      "Samuel\n",
      "Noreen\n",
      "Lourdes\n",
      "Charley\n",
      "Teddy\n",
      "Joe\n",
      "20\n",
      "7\n",
      "20\n",
      "22\n",
      "23\n",
      "22\n",
      "20\n",
      "('Andria', 20)\n",
      "('Samuel', 7)\n",
      "('Noreen', 20)\n",
      "('Lourdes', 22)\n",
      "('Charley', 23)\n",
      "('Teddy', 22)\n",
      "('Joe', 20)\n"
     ]
    }
   ],
   "source": [
    "friends = {'Andria': 20,\n",
    "          'Samuel': 19,\n",
    "          'Noreen': 20,\n",
    "          'Lourdes': 22,\n",
    "          'Charley': 23}\n",
    "friends['Teddy'] = 22\n",
    "friends['Samuel'] += 1\n",
    "friends['Samuel'] = 7\n",
    "'Samuel' in friends\n",
    "friends.setdefault('Joe', 20)\n",
    "friends.setdefault('Andria', 22)\n",
    "for k in friends.keys():\n",
    "    print(k)\n",
    "    \n",
    "for v in friends.values():\n",
    "    print(v)\n",
    "    \n",
    "for p in friends.items():\n",
    "    print(p)\n",
    "    \n",
    "    \n",
    "l1, l2\n",
    "\n",
    "for a, b in zip(l1, l2):\n",
    "    friends[a] = b"
   ]
  },
  {
   "cell_type": "code",
   "execution_count": null,
   "metadata": {
    "code_folding": [],
    "slideshow": {
     "slide_type": "skip"
    }
   },
   "outputs": [],
   "source": [
    "# Create a dictionary\n",
    "friends = {'Andria': 20,\n",
    "           'Samuel': 19,\n",
    "           'Noreen': 20,\n",
    "           'Lourdes': 22,\n",
    "           'Charley': 23}\n",
    "# Add a new friend:\n",
    "friends['Teddy'] = 22\n",
    "# Update value: Samuel had a birthday!\n",
    "friends['Samuel']+=1\n",
    "'Andria' in friends\n",
    "'James' in friends\n",
    "friends.setdefault('Joe', 40)\n",
    "friends.setdefault('Andria', 40)"
   ]
  },
  {
   "cell_type": "markdown",
   "metadata": {
    "slideshow": {
     "slide_type": "slide"
    }
   },
   "source": [
    "## Strings and Files"
   ]
  },
  {
   "cell_type": "code",
   "execution_count": 37,
   "metadata": {
    "code_folding": [],
    "slideshow": {
     "slide_type": "subslide"
    }
   },
   "outputs": [
    {
     "name": "stdout",
     "output_type": "stream",
     "text": [
      "65\n",
      "108\n",
      "112\n",
      "104\n",
      "97\n",
      "98\n",
      "101\n",
      "116\n",
      "0 \u0000\n",
      "1 \u0001\n",
      "2 \u0002\n",
      "3 \u0003\n",
      "4 \u0004\n",
      "5 \u0005\n",
      "6 \u0006\n",
      "7 \u0007\n",
      "8 \b\n",
      "9 \t\n",
      "10 \n",
      "\n",
      "11 \u000b",
      "\n",
      "12 \f",
      "\n",
      "13 \r\n",
      "14 \u000e\n",
      "15 \u000f\n",
      "16 \u0010\n",
      "17 \u0011\n",
      "18 \u0012\n",
      "19 \u0013\n",
      "20 \u0014\n",
      "21 \u0015\n",
      "22 \u0016\n",
      "23 \u0017\n",
      "24 \u0018\n",
      "25 \u0019\n",
      "26 \u001a\n",
      "27 \u001b\n",
      "28 \u001c",
      "\n",
      "29 \u001d",
      "\n",
      "30 \u001e",
      "\n",
      "31 \u001f\n",
      "32  \n",
      "33 !\n",
      "34 \"\n",
      "35 #\n",
      "36 $\n",
      "37 %\n",
      "38 &\n",
      "39 '\n",
      "40 (\n",
      "41 )\n",
      "42 *\n",
      "43 +\n",
      "44 ,\n",
      "45 -\n",
      "46 .\n",
      "47 /\n",
      "48 0\n",
      "49 1\n",
      "50 2\n",
      "51 3\n",
      "52 4\n",
      "53 5\n",
      "54 6\n",
      "55 7\n",
      "56 8\n",
      "57 9\n",
      "58 :\n",
      "59 ;\n",
      "60 <\n",
      "61 =\n",
      "62 >\n",
      "63 ?\n",
      "64 @\n",
      "65 A\n",
      "66 B\n",
      "67 C\n",
      "68 D\n",
      "69 E\n",
      "70 F\n",
      "71 G\n",
      "72 H\n",
      "73 I\n",
      "74 J\n",
      "75 K\n",
      "76 L\n",
      "77 M\n",
      "78 N\n",
      "79 O\n",
      "80 P\n",
      "81 Q\n",
      "82 R\n",
      "83 S\n",
      "84 T\n",
      "85 U\n",
      "86 V\n",
      "87 W\n",
      "88 X\n",
      "89 Y\n",
      "90 Z\n",
      "91 [\n",
      "92 \\\n",
      "93 ]\n",
      "94 ^\n",
      "95 _\n",
      "96 `\n",
      "97 a\n",
      "98 b\n",
      "99 c\n",
      "100 d\n",
      "101 e\n",
      "102 f\n",
      "103 g\n",
      "104 h\n",
      "105 i\n",
      "106 j\n",
      "107 k\n",
      "108 l\n",
      "109 m\n",
      "110 n\n",
      "111 o\n",
      "112 p\n",
      "113 q\n",
      "114 r\n",
      "115 s\n",
      "116 t\n",
      "117 u\n",
      "118 v\n",
      "119 w\n",
      "120 x\n",
      "121 y\n",
      "122 z\n",
      "123 {\n",
      "124 |\n",
      "125 }\n",
      "126 ~\n",
      "127 \n",
      "128 \n",
      "129 \n",
      "130 \n",
      "131 \n",
      "132 \n",
      "133 ",
      "\n",
      "134 \n",
      "135 \n",
      "136 \n",
      "137 \n",
      "138 \n",
      "139 \n",
      "140 \n",
      "141 \n",
      "142 \n",
      "143 \n",
      "144 \n",
      "145 \n",
      "146 \n",
      "147 \n",
      "148 \n",
      "149 \n",
      "150 \n",
      "151 \n",
      "152 \n",
      "153 \n",
      "154 \n",
      "155 \n",
      "156 \n",
      "157 \n",
      "158 \n",
      "159 \n",
      "160  \n",
      "161 ¡\n",
      "162 ¢\n",
      "163 £\n",
      "164 ¤\n",
      "165 ¥\n",
      "166 ¦\n",
      "167 §\n",
      "168 ¨\n",
      "169 ©\n",
      "170 ª\n",
      "171 «\n",
      "172 ¬\n",
      "173 ­\n",
      "174 ®\n",
      "175 ¯\n",
      "176 °\n",
      "177 ±\n",
      "178 ²\n",
      "179 ³\n",
      "180 ´\n",
      "181 µ\n",
      "182 ¶\n",
      "183 ·\n",
      "184 ¸\n",
      "185 ¹\n",
      "186 º\n",
      "187 »\n",
      "188 ¼\n",
      "189 ½\n",
      "190 ¾\n",
      "191 ¿\n",
      "192 À\n",
      "193 Á\n",
      "194 Â\n",
      "195 Ã\n",
      "196 Ä\n",
      "197 Å\n",
      "198 Æ\n",
      "199 Ç\n",
      "200 È\n",
      "201 É\n",
      "202 Ê\n",
      "203 Ë\n",
      "204 Ì\n",
      "205 Í\n",
      "206 Î\n",
      "207 Ï\n",
      "208 Ð\n",
      "209 Ñ\n",
      "210 Ò\n",
      "211 Ó\n",
      "212 Ô\n",
      "213 Õ\n",
      "214 Ö\n",
      "215 ×\n",
      "216 Ø\n",
      "217 Ù\n",
      "218 Ú\n",
      "219 Û\n",
      "220 Ü\n",
      "221 Ý\n",
      "222 Þ\n",
      "223 ß\n",
      "224 à\n",
      "225 á\n",
      "226 â\n",
      "227 ã\n",
      "228 ä\n",
      "229 å\n",
      "230 æ\n",
      "231 ç\n",
      "232 è\n",
      "233 é\n",
      "234 ê\n",
      "235 ë\n",
      "236 ì\n",
      "237 í\n",
      "238 î\n",
      "239 ï\n",
      "240 ð\n",
      "241 ñ\n",
      "242 ò\n",
      "243 ó\n",
      "244 ô\n",
      "245 õ\n",
      "246 ö\n",
      "247 ÷\n",
      "248 ø\n",
      "249 ù\n",
      "250 ú\n",
      "251 û\n",
      "252 ü\n",
      "253 ý\n",
      "254 þ\n"
     ]
    }
   ],
   "source": [
    "st = 'Alphabet'\n",
    "## Given a letter, what is the ASCII representation?\n",
    "for ch in st:\n",
    "    print(ord(ch))\n",
    "## Given a number, what is the ASCII character?\n",
    "for n in range(0,255):\n",
    "    print(n, chr(n))"
   ]
  },
  {
   "cell_type": "code",
   "execution_count": 49,
   "metadata": {
    "slideshow": {
     "slide_type": "subslide"
    }
   },
   "outputs": [
    {
     "data": {
      "text/plain": [
       "'Some sentence with spaces Some sentence with spaces'"
      ]
     },
     "execution_count": 49,
     "metadata": {},
     "output_type": "execute_result"
    }
   ],
   "source": [
    "x = 'Some sentence with spaces'\n",
    "x.split('s')\n",
    "x.join(x)\n",
    "' '.join(x)\n",
    "' '.join([x, x])"
   ]
  },
  {
   "cell_type": "code",
   "execution_count": 53,
   "metadata": {
    "slideshow": {
     "slide_type": "fragment"
    }
   },
   "outputs": [
    {
     "data": {
      "image/png": "[encoded data removed]",
      "text/plain": [
       "<Figure size 432x288 with 1 Axes>"
      ]
     },
     "metadata": {
      "needs_background": "light"
     },
     "output_type": "display_data"
    }
   ],
   "source": [
    "# Loading data from file -- typically either .dat or .csv\n",
    "# Data from FBI report on crime, 1997-2016\n",
    "# First column: year\n",
    "# Second column: Population\n",
    "# Third: total number of Violent crimes\n",
    "# Fourth: Number of Murders\n",
    "# Fifth: Number of Robberies\n",
    "data = np.loadtxt('fbiData.csv',skiprows=1, delimiter=',')\n",
    "\n",
    "#Split this into row vectors\n",
    "year = data[:,0] \n",
    "pop = data[:,1]\n",
    "crime = data[:,2]\n",
    "murder = data[:,3]\n",
    "robbery = data[:,4]\n",
    "#Plot population vs. year\n",
    "#Plot violent crime vs. year\n",
    "#Plot violent crime vs. population\n",
    "plt.plot(pop, crime)\n",
    "plt.show()\n",
    "#Plot murder v. robbery\n"
   ]
  },
  {
   "cell_type": "markdown",
   "metadata": {
    "slideshow": {
     "slide_type": "slide"
    }
   },
   "source": [
    "## Linear Algebra"
   ]
  },
  {
   "cell_type": "markdown",
   "metadata": {
    "slideshow": {
     "slide_type": "subslide"
    }
   },
   "source": [
    "### Calculate Determinants\n",
    "\n",
    "2x2 matrices:\n",
    "\n",
    "$$A = \\begin{bmatrix} \n",
    "a & b \\\\\n",
    "c & d \n",
    "\\end{bmatrix}$$\n",
    "\n",
    "$$\\det(A) = ad - bc $$\n",
    "\n",
    "3x3 matrices:\n",
    "\n",
    "$$B = \\begin{bmatrix} \n",
    "a & b & c\\\\\n",
    "d & e & f\\\\\n",
    "g & h & i\n",
    "\\end{bmatrix}$$\n",
    "\n",
    "\n",
    "$$\\det(B) = a\\times\\det\\begin{pmatrix} \n",
    "e & f \\\\\n",
    "h & i \n",
    "\\end{pmatrix} -\n",
    "b\\times\\det\\begin{pmatrix} \n",
    "d & f \\\\\n",
    "g & i \n",
    "\\end{pmatrix} +\n",
    "c\\times\\det\\begin{pmatrix} \n",
    "d & e \\\\\n",
    "g & h \n",
    "\\end{pmatrix}$$\n",
    "\n",
    "$$\\det(B) = a(ei-fh)-b(di-fg)+c(dh-eg)$$"
   ]
  },
  {
   "cell_type": "markdown",
   "metadata": {
    "slideshow": {
     "slide_type": "subslide"
    }
   },
   "source": [
    "### Inverses\n",
    "\n",
    "2x2 matrix:\n",
    "\n",
    "$$A = \\begin{bmatrix} \n",
    "a & b \\\\\n",
    "c & d \n",
    "\\end{bmatrix}$$\n",
    "\n",
    "$$ A^{-1} = \\frac{1}{\\det(A)}\\begin{bmatrix} \n",
    "d & -b \\\\\n",
    "-c & a \n",
    "\\end{bmatrix}$$\n"
   ]
  },
  {
   "cell_type": "code",
   "execution_count": 58,
   "metadata": {
    "slideshow": {
     "slide_type": "subslide"
    }
   },
   "outputs": [
    {
     "data": {
      "text/plain": [
       "(-744.9999999999994, array([[ 0.08053691, -0.1409396 , -0.01342282],\n",
       "        [-0.0442953 ,  0.12751678,  0.10738255],\n",
       "        [ 0.00134228,  0.14765101, -0.03355705]]))"
      ]
     },
     "execution_count": 58,
     "metadata": {},
     "output_type": "execute_result"
    }
   ],
   "source": [
    "A = np.array([[15, 5, 10], \n",
    "              [1, 2, 6],\n",
    "              [5, 9, -3]])\n",
    "#Calculate determinant and inverse of A\n",
    "detA = np.linalg.det(A)#FILL IN\n",
    "invA = np.linalg.inv(A)#FILL IN\n",
    "detA, invA\n"
   ]
  },
  {
   "cell_type": "markdown",
   "metadata": {
    "slideshow": {
     "slide_type": "subslide"
    }
   },
   "source": [
    "Example: Equations to Matrix form (From Fall 2018 Exam 2)\n",
    "\n",
    "Three masses $M_i$ are at stationary positions $x_i$ and are connected by a series of large springs with known spring constants $K_1$ through $K_4$. The position of the last mass, $x_3$, is known but neither the positions of the first two masses ($x_1$ and $x_2$) are known nor is the amount of force $F$ required to get mass 3 where it is. The equilibrium equations for the positions of the masses as functions of the applied forces are:\n",
    "\n",
    "$$\\begin{align*}\n",
    "K_1x_1+K_2x_1 - K_2x_2 &= 0\\\\\n",
    "-K_2x_1+K_2x_2+K_3x_2-K_3x_3&=0\\\\\n",
    "-K_3x_2+K_3x_3+K_4x_3-F&=0\n",
    "\\end{align*}$$\n",
    "\n",
    "Rearrange and write the above in matrix form."
   ]
  },
  {
   "cell_type": "code",
   "execution_count": 60,
   "metadata": {},
   "outputs": [
    {
     "data": {
      "text/plain": [
       "array([[ 0.23529412],\n",
       "       [ 1.41176471],\n",
       "       [31.17647059]])"
      ]
     },
     "execution_count": 60,
     "metadata": {},
     "output_type": "execute_result"
    }
   ],
   "source": [
    "# Solving the above system of equations: Assume K1=5, K2=1, K3=2, K4=15\n",
    "# Setup in form: Ax = b\n",
    "K1 = 5\n",
    "K2 = 1\n",
    "K3 = 2\n",
    "K4 = 15\n",
    "x3 = 2\n",
    "A = [[K1+K2, -K2, 0],\n",
    "     [-K2, K2+K3, 0],\n",
    "     [0, K3, 1]]\n",
    "b = [[0], [K3*x3], [(K3+K4)*x3]]\n",
    "x = np.linalg.solve(A, b)\n",
    "x[k] = soln[0][0]"
   ]
  },
  {
   "cell_type": "markdown",
   "metadata": {
    "slideshow": {
     "slide_type": "slide"
    }
   },
   "source": [
    "### Sweep through possible parameter changes\n"
   ]
  },
  {
   "cell_type": "code",
   "execution_count": null,
   "metadata": {
    "slideshow": {
     "slide_type": "fragment"
    }
   },
   "outputs": [],
   "source": []
  },
  {
   "cell_type": "markdown",
   "metadata": {
    "slideshow": {
     "slide_type": "subslide"
    }
   },
   "source": [
    "### Norms\n",
    "\n",
    "#### 1D Arrays (Vectors)\n",
    "\n",
    "- 1-Norm: $$||\\vec{v}||_1 = \\sum_{i=1}^n|x_i|$$\n",
    "- 2-Norm: $$||\\vec{v}||_2 = \\sqrt{\\sum_{i=1}^n x_i^2}$$\n",
    "- $\\inf$-Norm: $$||\\vec{v}||_{\\inf} = \\underset{1\\leq i\\leq n}{\\max} |x_i|$$\n",
    "\n",
    "#### 2D Arrays (Matrices)\n",
    "\n",
    "- 1-Norm: $$||A||_1 = \\max_{j}\\sum_{i=1}^n|a_{ij}|$$\n",
    "- $\\inf$-Norm: $$||A||_{\\inf} = \\max_i \\sum_{j=1}^n|a_{ij}|$$\n",
    "- Frobenius-Norm: $$||A||_{fro} = \\sqrt{\\sum_{j=1}^m\\sum_{i=1}^n a_{ij}^2}$$\n",
    "\n",
    "What are these? 1-Norm is the maximum column sum, Inf-Norm is maximum row sum. 2-norm "
   ]
  },
  {
   "cell_type": "code",
   "execution_count": 62,
   "metadata": {
    "slideshow": {
     "slide_type": "fragment"
    }
   },
   "outputs": [],
   "source": [
    "# Norms and Condition Numbers\n",
    "# Computing these is easy: just use linalg\n",
    "\n",
    "v = np.array([1, 2, 3, 4, 5, 6])\n",
    "v1norm = np.linalg.norm(v, ord=1)\n",
    "v2norm = np.linalg.norm(v, ord=2)\n",
    "vINFnorm = np.linalg.norm(v, ord=np.inf)\n",
    "\n",
    "A = np.array([[5, 2], [6, 1]])\n",
    "A1norm = np.linalg.norm(A, ord=1)\n",
    "AFROnorm = np.linalg.norm(A, 'fro')\n",
    "AINFnorm = np.linalg.norm(A, ord=np.inf)\n",
    "A2norm = np.linalg.norm(A, 2)"
   ]
  },
  {
   "cell_type": "markdown",
   "metadata": {
    "slideshow": {
     "slide_type": "subslide"
    }
   },
   "source": [
    "### Condition Numbers\n",
    "\n",
    "$$\\mathrm{cond}(A) = ||A||\\cdot||A^{-1}||$$\n",
    "\n",
    "Take the matrix, calculate the inverse, then find the condition number of the original ($A$) and inverse ($A^{-1}$) and multiply them. \n",
    "\n",
    "What is a condition number? Condition numbers have to deal with accuracy of your system.\n",
    "\n",
    "_From Pundit:_\n",
    "\n",
    "A condition number of a matrix gives an idea of the sensitivity of the solution relative to the sensitivity of the measurements. The larger the condition number, the more difficult the geometry and thus the more prone to error the results are to measurement errors. The rule of thumb is that your final answer will have as many digits of precision as the number of digits in your measurements minus the base-10 logarithm of the condition number.\n",
    "\n",
    "For instance, if you take measurements to 5 significant figures and your system has a condition number of 100, you expectation is that your solution is accurate to $5-\\log_{10}(100)=5-2=3$ digits.\n",
    "\n",
    "You generally report ranges of digits if the condition number is not an integer power of 10. For instance, if you know your measurements to 9 figures and your condition number of 485, $\\log_{10}(485)=2.69$ so you will lose between 2 and 3 digits of precision meaning you know your final answers to within 6-7 digits (9 minus 2 or 3)."
   ]
  },
  {
   "cell_type": "code",
   "execution_count": 66,
   "metadata": {
    "slideshow": {
     "slide_type": "fragment"
    }
   },
   "outputs": [
    {
     "name": "stdout",
     "output_type": "stream",
     "text": [
      "4.539628424389459e+17 4.539628424389459e+17\n"
     ]
    },
    {
     "data": {
      "text/plain": [
       "array([[ 3.15251974e+15, -6.30503948e+15,  3.15251974e+15],\n",
       "       [-6.30503948e+15,  1.26100790e+16, -6.30503948e+15],\n",
       "       [ 3.15251974e+15, -6.30503948e+15,  3.15251974e+15]])"
      ]
     },
     "execution_count": 66,
     "metadata": {},
     "output_type": "execute_result"
    }
   ],
   "source": [
    "#Calculating condition numbers\n",
    "\n",
    "A = np.array([[1, 2, 3],\n",
    "              [4, 5, 6],\n",
    "              [7, 8, 9]])\n",
    "aCond1 = np.linalg.cond(A, p=1)\n",
    "aCond2 = np.linalg.cond(A, p=2)\n",
    "aCondInf = np.linalg.cond(A, p=np.inf)\n",
    "aCondFro = np.linalg.cond(A, p='fro')\n",
    "\n",
    "aCond1\n",
    "\n",
    "aNorm = np.linalg.norm(A, ord=1)\n",
    "aInv = np.linalg.inv(A)\n",
    "invNorm = np.linalg.norm(aInv, ord=1)\n",
    "print(aNorm*invNorm, aCond1)\n",
    "aInv"
   ]
  },
  {
   "cell_type": "markdown",
   "metadata": {
    "slideshow": {
     "slide_type": "slide"
    }
   },
   "source": [
    "## Curve Fitting"
   ]
  },
  {
   "cell_type": "markdown",
   "metadata": {
    "slideshow": {
     "slide_type": "subslide"
    }
   },
   "source": [
    "### Polynomial Fit\n",
    "\n",
    "This is the easiest of the fits we cover: you are simply fitting to a polynomial expression, of some set degree.\n",
    "\n",
    "Here, we have been using the following variables:\n",
    "\n",
    "- ```p``` the coefficients of the polynomial fit\n",
    "- ```yhat``` the y values given by evaluating the original x values in the polynomial expression\n",
    "- ```xmodel``` a continuous series of x values to test the model with\n",
    "- ```ymodel``` y values for a continuous series of x values"
   ]
  },
  {
   "cell_type": "code",
   "execution_count": null,
   "metadata": {
    "slideshow": {
     "slide_type": "fragment"
    }
   },
   "outputs": [],
   "source": [
    "#For some x, y, and n as the degree of the fit\n",
    "p = np.polyfit(x, y, n)\n",
    "\n",
    "yhat = np.polyval(p, x)\n",
    "ymodel = np.polyval(p, xmodel)\n"
   ]
  },
  {
   "cell_type": "markdown",
   "metadata": {
    "slideshow": {
     "slide_type": "subslide"
    }
   },
   "source": [
    "### Linear Regressions"
   ]
  },
  {
   "cell_type": "markdown",
   "metadata": {
    "slideshow": {
     "slide_type": "fragment"
    }
   },
   "source": [
    "The equation built by linear regressions is: \n",
    "\n",
    "$$\\hat{y}(x)=\\sum_{j=1}^{M}c_j\\phi_j(x)$$\n",
    "\n",
    "where $c_j$ are the coefficients of the fit and the $\\phi_j$ are the specific functions of the independent variable that make up the fit.\n",
    "\n",
    "Example: a generic polynomial fit could be of the form $y = c_0\\phi_0(x) + c_1\\phi_1(x) + c_2\\phi_2(x)$, where $\\phi_0(x) = x^2$, $\\phi_1(x) = x^1$, $\\phi_2(x) = x^0$.\n",
    "\n",
    "When we do this, our ```yfun``` is used to evaluate values __after__ we solve for our fit.\n",
    "\n",
    "The linear least squares regression takes in a matrix, which is why we use np.block.\n",
    "\n",
    "$$ y = a\\times e^x + b\\times x^3 $$"
   ]
  },
  {
   "cell_type": "code",
   "execution_count": null,
   "metadata": {
    "slideshow": {
     "slide_type": "fragment"
    }
   },
   "outputs": [],
   "source": [
    "# This is the general way to solve for a linear regression:\n",
    "def yfun(xe, coefs):\n",
    "    return coefs[0] * x**1 + coefs[1] * x**0 #THIS IS ANY FUNCTION\n",
    "\n",
    "def example(xe, coefs):\n",
    "    return coefs[0] * np.exp(xe) + coefs[1]*xe**3\n",
    "a_mat_ex = np.block([[np.exp(x), x**3]])\n",
    "\n",
    "xv = np.reshape(x, (-1, 1))\n",
    "yv = np.reshape(y, (-1, 1))\n",
    "a_mat = np.block([[xv**1, xv**0]])\n",
    "pvec = np.linalg.lstsq(a_mat, yv, rcond=None)[0]\n",
    "\n",
    "yhat = yfun(x, pvec)\n",
    "ymodel = yfun(xmodel, pvec)\n"
   ]
  },
  {
   "cell_type": "markdown",
   "metadata": {
    "slideshow": {
     "slide_type": "subslide"
    }
   },
   "source": [
    "### Nonlinear Regression"
   ]
  },
  {
   "cell_type": "markdown",
   "metadata": {
    "slideshow": {
     "slide_type": "fragment"
    }
   },
   "source": [
    "Steps for a nonlinear regression:\n",
    "\n",
    "1. Define function: what is the function that models the behavior exhibited by your data?\n",
    "2. Determine initial conditions: take a look at the data, and intuit from there\n",
    "3. Run the optimization curve fit to get your optimized coefficients"
   ]
  },
  {
   "cell_type": "code",
   "execution_count": null,
   "metadata": {
    "code_folding": [],
    "slideshow": {
     "slide_type": "fragment"
    }
   },
   "outputs": [],
   "source": [
    "def yfun(x, *coefs):\n",
    "    return coefs[0] * x**1 + coefs[1] * x**0\n",
    "\n",
    "ICs = [1, 2]#Initial Conditions\n",
    "popt = opt.curve_fit(yfun, x, y, ICs)[0]\n",
    "print(popt)\n",
    "\n",
    "# %% Generate estimates and model\n",
    "yhat = yfun(x, *popt)\n",
    "ymodel = yfun(xmodel, *popt) "
   ]
  },
  {
   "cell_type": "markdown",
   "metadata": {
    "cell_style": "split",
    "slideshow": {
     "slide_type": "subslide"
    }
   },
   "source": [
    "### Calculating Statistics\n",
    "\n",
    "Residual Sum of Squares\n",
    "$$ s_r = \\sum(y_i - \\hat{y})^2$$\n",
    "\n",
    "Sum of squares of estimate residuals\n",
    "$$ s_t = \\sum(y_i - \\mathrm{mean}(y))^2$$\n",
    "\n",
    "Coefficient of Determination ($R^2$)\n",
    "$$ R^2 = \\frac{s_t - s_r}{s_t}$$"
   ]
  },
  {
   "cell_type": "code",
   "execution_count": null,
   "metadata": {
    "slideshow": {
     "slide_type": "fragment"
    }
   },
   "outputs": [],
   "source": [
    "st = np.sum((y - np.mean(y))**2)\n",
    "sr = np.sum((y - yhat)**2)\n",
    "r2 = (st - sr) / st"
   ]
  },
  {
   "cell_type": "markdown",
   "metadata": {
    "slideshow": {
     "slide_type": "slide"
    }
   },
   "source": [
    "## Surfaces"
   ]
  },
  {
   "cell_type": "markdown",
   "metadata": {
    "slideshow": {
     "slide_type": "subslide"
    }
   },
   "source": [
    "Surface plots are used for three-dimensional functions -- instead of $y(x)$ we have $z(x,y)$"
   ]
  },
  {
   "cell_type": "code",
   "execution_count": 70,
   "metadata": {
    "slideshow": {
     "slide_type": "fragment"
    }
   },
   "outputs": [
    {
     "name": "stdout",
     "output_type": "stream",
     "text": [
      "[0 1 2 3 4 5 6 7 8 9] [ 0.  1.  2.  3.  4.  5.  6.  7.  8.  9. 10.]\n",
      "[[0 1 2 3 4 5 6 7 8 9]\n",
      " [0 1 2 3 4 5 6 7 8 9]\n",
      " [0 1 2 3 4 5 6 7 8 9]\n",
      " [0 1 2 3 4 5 6 7 8 9]\n",
      " [0 1 2 3 4 5 6 7 8 9]\n",
      " [0 1 2 3 4 5 6 7 8 9]\n",
      " [0 1 2 3 4 5 6 7 8 9]\n",
      " [0 1 2 3 4 5 6 7 8 9]\n",
      " [0 1 2 3 4 5 6 7 8 9]\n",
      " [0 1 2 3 4 5 6 7 8 9]\n",
      " [0 1 2 3 4 5 6 7 8 9]]\n",
      "[[ 0.  0.  0.  0.  0.  0.  0.  0.  0.  0.]\n",
      " [ 1.  1.  1.  1.  1.  1.  1.  1.  1.  1.]\n",
      " [ 2.  2.  2.  2.  2.  2.  2.  2.  2.  2.]\n",
      " [ 3.  3.  3.  3.  3.  3.  3.  3.  3.  3.]\n",
      " [ 4.  4.  4.  4.  4.  4.  4.  4.  4.  4.]\n",
      " [ 5.  5.  5.  5.  5.  5.  5.  5.  5.  5.]\n",
      " [ 6.  6.  6.  6.  6.  6.  6.  6.  6.  6.]\n",
      " [ 7.  7.  7.  7.  7.  7.  7.  7.  7.  7.]\n",
      " [ 8.  8.  8.  8.  8.  8.  8.  8.  8.  8.]\n",
      " [ 9.  9.  9.  9.  9.  9.  9.  9.  9.  9.]\n",
      " [10. 10. 10. 10. 10. 10. 10. 10. 10. 10.]]\n"
     ]
    }
   ],
   "source": [
    "#np.meshgrid, np.arange, np.linspace\n",
    "\n",
    "a = np.arange(0, 10, 1)\n",
    "b = np.linspace(0,10,11)\n",
    "print(a,b)\n",
    "\n",
    "c, d = np.meshgrid(a, b)\n",
    "print(c)\n",
    "print(d)"
   ]
  },
  {
   "cell_type": "code",
   "execution_count": 73,
   "metadata": {
    "scrolled": true,
    "slideshow": {
     "slide_type": "subslide"
    }
   },
   "outputs": [
    {
     "data": {
      "image/png": "[encoded data removed]",
      "text/plain": [
       "<Figure size 432x288 with 1 Axes>"
      ]
     },
     "metadata": {
      "needs_background": "light"
     },
     "output_type": "display_data"
    }
   ],
   "source": [
    "x = np.linspace(-1, 1, 100)\n",
    "y = np.linspace(-1, 1, 100)\n",
    "X, Y = np.meshgrid(x, y)\n",
    "Z = X**2 + Y**2\n",
    "\n",
    "fig = plt.figure(num=1)\n",
    "fig.clf()\n",
    "ax = fig.add_subplot(1, 1, 1, projection='3d')\n",
    "\n",
    "\n",
    "ax.plot_wireframe(X,Y,Z)\n",
    "ax.set(xlabel='x', ylabel='y', zlabel='z', title='z = x^2 + y^2')\n",
    "\n",
    "fig.tight_layout()"
   ]
  },
  {
   "cell_type": "code",
   "execution_count": null,
   "metadata": {
    "scrolled": true,
    "slideshow": {
     "slide_type": "subslide"
    }
   },
   "outputs": [],
   "source": [
    "fig = plt.figure(num=2)\n",
    "fig.clf()\n",
    "ax = fig.add_subplot(1, 1, 1, projection='3d')\n",
    "\n",
    "\n",
    "ax.plot_wireframe(X,Y,Z)\n",
    "ax.set(xlabel='x', ylabel='y', zlabel='z', title='$z = x^2 + y^2$')\n",
    "\n",
    "fig.tight_layout()"
   ]
  },
  {
   "cell_type": "code",
   "execution_count": null,
   "metadata": {
    "slideshow": {
     "slide_type": "fragment"
    }
   },
   "outputs": [],
   "source": [
    "'''\n",
    "ax.set(xlabel='x', \n",
    "       ylabel='y', \n",
    "       zlabel='z',\n",
    "       xlim = [-4, 4],\n",
    "       ylim = [-4, 4],\n",
    "       zlim = [-4, 4],\n",
    "       xticks = [-4, -2, 2, 4],\n",
    "       yticks = [-4, -2, 2, 4],\n",
    "       zticks = [-1, 0, 1],\n",
    "       title='Donut!')\n",
    "'''"
   ]
  },
  {
   "cell_type": "markdown",
   "metadata": {
    "slideshow": {
     "slide_type": "slide"
    }
   },
   "source": [
    "## Finding Roots"
   ]
  },
  {
   "cell_type": "markdown",
   "metadata": {
    "slideshow": {
     "slide_type": "subslide"
    }
   },
   "source": [
    "For the exam, given a continuous function, you will need to be able to find roots. To do this, you need to be able to find a bracket: this will be do-able given the information. Roots are places the function = 0."
   ]
  },
  {
   "cell_type": "code",
   "execution_count": null,
   "metadata": {
    "slideshow": {
     "slide_type": "fragment"
    }
   },
   "outputs": [],
   "source": [
    "r1 = opt.brentq(lambda x: x**2+3*x-4, -5, -3)\n",
    "r2 = opt.brentq(lambda x: x**2+3*x-4, 0, 3)\n",
    "r1, r2"
   ]
  },
  {
   "cell_type": "code",
   "execution_count": null,
   "metadata": {
    "slideshow": {
     "slide_type": "fragment"
    }
   },
   "outputs": [],
   "source": [
    "def fun(x):\n",
    "    return x**2+3*x-4\n",
    "\n",
    "r1 = opt.brentq(fun, -4, -2)\n",
    "r2 = opt.brentq(fun, 0, 3)"
   ]
  },
  {
   "cell_type": "markdown",
   "metadata": {
    "slideshow": {
     "slide_type": "slide"
    }
   },
   "source": [
    "## Finding Extrema"
   ]
  },
  {
   "cell_type": "markdown",
   "metadata": {
    "slideshow": {
     "slide_type": "subslide"
    }
   },
   "source": [
    "Two main functions to use:\n",
    "\n",
    "```fminbound``` -- The fminbound command can find a single value of a single variable that minimizes a function in a bounded interval. \n",
    "\n",
    "In: function, left bound, right bound.\n",
    "\n",
    "Out: value of x that reaches minumum, value of f(x) at minimum, flag if it worked (0, 1), number of times called to get minimum.\n",
    "\n",
    "```fmin``` -- If you have a multi-variable function, you can solve for the minimum using the unbounded minimization function fmin. The function needs all your variables to be contained in a single list or array, however. Give it: \n",
    "\n",
    "\n",
    "Main difference: fminbound is great for single variable functions, in the form f(x), while fmin is useful for an arbitrary number of arguments, like f(x,y,z,...)"
   ]
  },
  {
   "cell_type": "code",
   "execution_count": 52,
   "metadata": {
    "slideshow": {
     "slide_type": "fragment"
    }
   },
   "outputs": [
    {
     "data": {
      "text/plain": [
       "(3.1415926891518526, (3.1415926891518526, -0.9999999999999993, 0, 9))"
      ]
     },
     "execution_count": 52,
     "metadata": {},
     "output_type": "execute_result"
    }
   ],
   "source": [
    "def fun(x):\n",
    "    return np.cos(x)\n",
    "\n",
    "out1 = opt.fminbound(fun, 0, 6)\n",
    "out4 = opt.fminbound(fun, 0, 6, full_output=True)\n",
    "out1, out4"
   ]
  },
  {
   "cell_type": "code",
   "execution_count": 84,
   "metadata": {
    "slideshow": {
     "slide_type": "fragment"
    }
   },
   "outputs": [
    {
     "name": "stdout",
     "output_type": "stream",
     "text": [
      "Optimization terminated successfully.\n",
      "         Current function value: 0.750000\n",
      "         Iterations: 47\n",
      "         Function evaluations: 92\n",
      "2\n"
     ]
    }
   ],
   "source": [
    "def f(x, y):\n",
    "    return 2 + x - y + 2*x**2 + 2*x*y + y**2\n",
    "\n",
    "min_loc = opt.fmin(lambda vec: f(vec[0], vec[1]), [0.5, 2.0])\n",
    "\n",
    "min_val = f(*min_loc)\n",
    "min_loc\n",
    "\n",
    "def x(val, val2, val3):\n",
    "    print(val)\n",
    "\n",
    "x(2, 24, 4)"
   ]
  },
  {
   "cell_type": "markdown",
   "metadata": {
    "slideshow": {
     "slide_type": "slide"
    }
   },
   "source": [
    "# Exercises"
   ]
  },
  {
   "cell_type": "markdown",
   "metadata": {
    "slideshow": {
     "slide_type": "subslide"
    }
   },
   "source": [
    "## Exercise 1 –– Basic Strings\n",
    "\n",
    "(From w3resource.com)\n",
    "\n",
    "Write a python function, ```letter_count``` to return the count of each letter in a string.\n",
    "\n",
    "Input: A string of any length (len$\\geq$0)\n",
    "\n",
    "Output: A reasonable data structure (either a dictionary or a list).\n",
    "\n",
    "Extra: Your function should return a data structure with _only_ the letters present in the string. "
   ]
  },
  {
   "cell_type": "code",
   "execution_count": 86,
   "metadata": {
    "slideshow": {
     "slide_type": "fragment"
    }
   },
   "outputs": [
    {
     "data": {
      "text/plain": [
       "{'t': 3, 'h': 1, 'i': 2, 's': 3, ' ': 3, 'a': 1, 'e': 1}"
      ]
     },
     "execution_count": 86,
     "metadata": {},
     "output_type": "execute_result"
    }
   ],
   "source": [
    "def letter_count(st):\n",
    "    letters = {}\n",
    "    stNew = st.lower()\n",
    "    #way 1\n",
    "    '''\n",
    "    for ch in stNew:\n",
    "        if ch in letters:\n",
    "            letters[ch]+=1\n",
    "        else:\n",
    "            letters[ch] = 1\n",
    "    '''\n",
    "    #way 2\n",
    "    for ch in stNew:\n",
    "        letters.setdefault(ch, 0)\n",
    "        letters[ch]+=1\n",
    "    return letters\n",
    "letter_count('This is a test')"
   ]
  },
  {
   "cell_type": "markdown",
   "metadata": {
    "slideshow": {
     "slide_type": "subslide"
    }
   },
   "source": [
    "## Exercise 2 –– Strings and Files\n",
    "\n",
    "Write a function, ```whole_alphabet``` that takes in a file name, and returns how many letters need to be read before encountering every letter in the alphabet. Ignore letter case. \n",
    "\n",
    "Input: file name\n",
    "\n",
    "Output: index of letter that gives the whole alphabet, or -1 if not all letters present.\n"
   ]
  },
  {
   "cell_type": "code",
   "execution_count": null,
   "metadata": {
    "slideshow": {
     "slide_type": "fragment"
    }
   },
   "outputs": [],
   "source": [
    "def whole_alphabet(fName):\n",
    "    f = open(fName,'r')\n",
    "    \n",
    "    letters = {}\n",
    "    counter = 0\n",
    "    for line in f:\n",
    "        for word in line:\n",
    "            for letter in word.lower():\n",
    "                letters.setdefault(letter, 0)\n",
    "                counter+=1\n",
    "                curAlphabet = 0\n",
    "                for k in letters.keys():\n",
    "                    if k.isalpha():\n",
    "                        curAlphabet+=1\n",
    "                if curAlphabet==26:\n",
    "                    f.close()\n",
    "                    return counter\n",
    "    \n",
    "    \n",
    "    \n",
    "    f.close()\n",
    "    return -1"
   ]
  },
  {
   "cell_type": "markdown",
   "metadata": {
    "slideshow": {
     "slide_type": "subslide"
    },
    "solution": "shown",
    "solution_first": true
   },
   "source": [
    "## Exercise 3 –– More Files and Strings\n",
    "\n",
    "Write a function to read in a file, and output every other word to a new file. The new file should be called OLDNAME_cpy.txt.\n"
   ]
  },
  {
   "cell_type": "code",
   "execution_count": 87,
   "metadata": {
    "code_folding": [],
    "slideshow": {
     "slide_type": "fragment"
    }
   },
   "outputs": [
    {
     "name": "stdout",
     "output_type": "stream",
     "text": [
      "1845 RAVEN Edgar Poe upon midnight while pondered, and Over a and volume forgotten While nodded, napping, there a As some gently rapping my door. some I \"tapping my door- this, nothing Ah, I it in bleak And separate ember its upon floor. I the vainly had to From books of sorrow the Lenore- the and maiden the name Nameless for And silken uncertain of purple Thrilled filled with terrors felt So now, still beating my I repeating, some entreating at chamber Some visitor entrance my door;- it and more.\" my grew hesitating no \"Sir,\" I, Madam, your I But fact I napping, so you rapping, so you tapping, at chamber That scarce sure heard here opened the Darkness and more. into darkness long stood wondering, Doubting, dreams mortals dared dream But silence unbroken, the gave token, the word spoken the word, This whispered, an murmured the \"Lenore!\"- this, nothing Back the turning, my within burning, again heard tapping louder before. said \"surely is at window Let see, what is, this explore- my be a and mystery 'Tis wind nothing Open I the when, many flirt flutter, there a raven the days yore; the obeisance he; a stopped stayed But, mien lord lady, above chamber Perched a of just my door- and and more. this bird my fancy smiling, the and decorum the it \"Though crest shorn shaven, I \"art no Ghastly and raven from Nightly Tell what lordly is the Plutonian Quoth Raven, Much marvelled ungainly to discourse plainly, its little little bore; we help that living being yet blest seeing above chamber Bird beast the bust his door, such as But raven, lonely the bust, only one as his in one he outpour. further he not feather he Till scarcely than \"other have before- the he leave as hopes flown Then bird \"Nevermore.\" at stillness by so spoken, said \"what utters its stock store, from unhappy whom Disaster fast followed till songs burden Till dirges his that burden Of nevermore'.\" the still all fancy smiling, I a seat front bird, bust door; upon velvet I myself linking unto thinking this bird yore- this ungainly, gaunt ominous of Meant croaking This sat in but syllable To fowl fiery now into bosom's This more sat with head ease On cushion's lining the gloated But velvet lining the gloating She press, nevermore! methought air denser, from unseen Swung Seraphim footfalls on tufted \"Wretch,\" cried, God lent by angels hath thee respite nepenthe, thy of Quaff, quaff kind and this Lenore!\" the \"Nevermore.\" said \"thing evil!- still, bird devil!- Tempter or tempest thee ashore, yet undaunted, this land On home horror tell truly, implore- there- there in tell tell I Quoth Raven, \"Prophet!\" I, of prophet if or By Heaven bends us- that we adore- this with laden within distant It clasp sainted whom angels Lenore- a and maiden the name Quoth Raven, \"Be word sign parting, or I upstarting- thee into tempest the Plutonian Leave black as token that thy hath Leave loneliness quit bust my Take beak out heart, take form off door!\" the \"Nevermore.\" the never still sitting, is On pallid of just my door; his have the of demon's is And lamplight him throws shadow the And soul out shadow lies on floor be nevermore! END- \n"
     ]
    }
   ],
   "source": [
    "def filecp_half(fOld):\n",
    "    fTXT = open(fOld, 'r')\n",
    "    fNew = fOld.split('.')\n",
    "    fNewName = fNew[0] + '_cpy.txt'\n",
    "    fNew = open(fNewName ,'w')\n",
    "    flag = True\n",
    "    for line in fTXT:\n",
    "        for word in line.split():\n",
    "            if flag:\n",
    "                fNew.write(word + ' ')\n",
    "                flag = False\n",
    "            else:\n",
    "                flag = True\n",
    "    fTXT.close()         \n",
    "    return fNewName\n",
    "\n",
    "\n",
    "f = open(filecp_half('the_raven.txt'))\n",
    "for line in f:\n",
    "    print(line)"
   ]
  },
  {
   "cell_type": "markdown",
   "metadata": {
    "slideshow": {
     "slide_type": "slide"
    }
   },
   "source": [
    "## Exercise 4: Linear Algebra\n",
    "\n",
    "Write a python function that takes in some input, and outputs (nicely formatted) the following:\n",
    "\n",
    "If the input is a vector, print out the following:\n",
    "\n",
    "```\n",
    "1-Norm of vector: ####\n",
    "2-Norm of vector: ####\n",
    "Inf-Norm of vector: ####\n",
    "```\n",
    "\n",
    "If the input is a matrix, print the following:\n",
    "\n",
    "```\n",
    "Determinant of matrix: ###\n",
    "Inverse of matrix: \n",
    "X, X, X\n",
    "X, X, X\n",
    "X, X, X\n",
    "\n",
    "1-Norm of matrix: ####\n",
    "2-Norm of matrix: ####\n",
    "Inf-Norm of matrix: ####\n",
    "Fro-Norm of matrix: ####\n",
    "\n",
    "1-Cond of matrix: ####\n",
    "2-Cond of matrix: ####\n",
    "Inf-Cond of matrix: ####\n",
    "Fro-Cond of matrix: ####\n",
    "```"
   ]
  },
  {
   "cell_type": "code",
   "execution_count": null,
   "metadata": {
    "slideshow": {
     "slide_type": "fragment"
    }
   },
   "outputs": [],
   "source": []
  },
  {
   "cell_type": "markdown",
   "metadata": {
    "slideshow": {
     "slide_type": "slide"
    }
   },
   "source": [
    "## Exercise 5: Linear Regression\n",
    "\n",
    "Given the FBI dataset used above, guess an appropriate equation to model population vs. year. \n",
    "\n",
    "Do this three ways: polynomial regression, general linear regression, and nonlinear regression. Compute $R^2$ for each and compare."
   ]
  },
  {
   "cell_type": "code",
   "execution_count": null,
   "metadata": {
    "slideshow": {
     "slide_type": "fragment"
    }
   },
   "outputs": [],
   "source": []
  },
  {
   "cell_type": "code",
   "execution_count": null,
   "metadata": {
    "solution2": "hidden",
    "solution2_first": true
   },
   "outputs": [],
   "source": [
    "def filecp_half(fOld):\n",
    "    fTXT = open(fOld, 'r')\n",
    "    fNew = fOld.split('.')\n",
    "    fNewName = fNew[0] + '_cpy.txt'\n",
    "    fNew = open(fNewName ,'w')\n",
    "    flag = True\n",
    "    for line in fTXT:\n",
    "        for word in line.split():\n",
    "            if flag:\n",
    "                fNew.write(word + ' ')\n",
    "                flag = False\n",
    "            else:\n",
    "                flag = True\n",
    "    fTXT.close()         \n",
    "    return fNewName\n",
    "\n",
    "\n",
    "f = open(filecp_half('the_raven.txt'))\n",
    "for line in f:\n",
    "    print(line)"
   ]
  }
 ],
 "metadata": {
  "celltoolbar": "Slideshow",
  "kernelspec": {
   "display_name": "Python 3",
   "language": "python",
   "name": "python3"
  },
  "language_info": {
   "codemirror_mode": {
    "name": "ipython",
    "version": 3
   },
   "file_extension": ".py",
   "mimetype": "text/x-python",
   "name": "python",
   "nbconvert_exporter": "python",
   "pygments_lexer": "ipython3",
   "version": "3.7.1"
  },
  "varInspector": {
   "cols": {
    "lenName": 16,
    "lenType": 16,
    "lenVar": 40
   },
   "kernels_config": {
    "python": {
     "delete_cmd_postfix": "",
     "delete_cmd_prefix": "del ",
     "library": "var_list.py",
     "varRefreshCmd": "print(var_dic_list())"
    },
    "r": {
     "delete_cmd_postfix": ") ",
     "delete_cmd_prefix": "rm(",
     "library": "var_list.r",
     "varRefreshCmd": "cat(var_dic_list()) "
    }
   },
   "types_to_exclude": [
    "module",
    "function",
    "builtin_function_or_method",
    "instance",
    "_Feature"
   ],
   "window_display": false
  }
 },
 "nbformat": 4,
 "nbformat_minor": 2
}
