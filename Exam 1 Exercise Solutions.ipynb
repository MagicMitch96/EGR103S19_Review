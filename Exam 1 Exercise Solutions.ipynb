{
 "cells": [
  {
   "cell_type": "markdown",
   "metadata": {
    "slideshow": {
     "slide_type": "slide"
    }
   },
   "source": [
    " # EGR 103 Spring 2019 \n",
    " # Exam 1 Exercises - Solutions"
   ]
  },
  {
   "cell_type": "markdown",
   "metadata": {
    "slideshow": {
     "slide_type": "subslide"
    }
   },
   "source": [
    "### (From ThinkPython2e, 5.2)\n",
    "Fermat’s Last Theorem says that there are no positive integers a, b, and c such that\n",
    "\n",
    "$$a^n + b^n = c^n$$ \n",
    "for any values of n greater than 2.\n",
    "\n",
    "Write a function named `check_fermat` that takes four parameters—`a`, `b`, `c` and `n`—and checks to see if Fermat’s theorem holds. If n is greater than 2 and\n",
    "\n",
    "$$a^n + b^n = c^n$$ \n",
    "\n",
    "the program should print, “Holy smokes, Fermat was wrong!” Otherwise the program should print, “No, that doesn’t work.”\n",
    "\n",
    "Write a second function, `prompt_user` that prompts the user to input values for a, b, c and n, converts them to integers, and uses `check_fermat` to check whether they violate Fermat’s theorem.\n"
   ]
  },
  {
   "cell_type": "code",
   "execution_count": 1,
   "metadata": {
    "slideshow": {
     "slide_type": "fragment"
    }
   },
   "outputs": [],
   "source": [
    "def check_fermat(a, b, c, n):\n",
    "    if n > 2:\n",
    "        valid = True\n",
    "    else:\n",
    "        valid = False\n",
    "    tst = ((a**n) + (b**n) == c**n)\n",
    "    if tst and valid:\n",
    "        print(\"Holy smokes, Fermat was wrong!\")\n",
    "    else:\n",
    "        print(\"No, that doesn't work.\")\n",
    "    \n"
   ]
  },
  {
   "cell_type": "code",
   "execution_count": 6,
   "metadata": {
    "slideshow": {
     "slide_type": "fragment"
    }
   },
   "outputs": [],
   "source": [
    "def prompt_user():\n",
    "    a = int(input('a: '))\n",
    "    b = int(input('b: '))\n",
    "    c = int(input('c: '))\n",
    "    n = int(input('n: '))\n",
    "    check_fermat(a, b, c, n)"
   ]
  },
  {
   "cell_type": "code",
   "execution_count": 7,
   "metadata": {
    "slideshow": {
     "slide_type": "fragment"
    }
   },
   "outputs": [
    {
     "name": "stdout",
     "output_type": "stream",
     "text": [
      "No, that doesn't work.\n",
      "No, that doesn't work.\n",
      "No, that doesn't work.\n",
      "a: 1\n",
      "b: 2\n",
      "c: 3\n",
      "n: 4\n",
      "No, that doesn't work.\n"
     ]
    }
   ],
   "source": [
    "##Tests\n",
    "check_fermat(5, 6, 7, 3) #\"No, that doesn't work.\"\n",
    "check_fermat(1, 2e6, 3, 6) #\"No, that doesn't work.\"\n",
    "check_fermat(1, 2, 3, 5) #\"No, that doesn't work.\"\n",
    "prompt_user() #\"No, that doesn't work.\""
   ]
  },
  {
   "cell_type": "markdown",
   "metadata": {
    "slideshow": {
     "slide_type": "subslide"
    }
   },
   "source": [
    "### (From ThinkPython2e, 7.3)\n",
    "The mathematician Srinivasa Ramanujan found an infinite series that can be used to generate a numerical approximation of $1 / \\pi$:\n",
    "$$\\frac{1}{\\pi} = \\frac{2\\sqrt{2}}{9801}\\sum_{k=0}^{\\infty}\\frac{(4k)!(1103 + 26390k)}{(k!)^4 396^{4k}}$$\n",
    "\n",
    "Write a function called `estimate_pi` that uses this formula to compute and return an estimate of $\\pi$. \n",
    "\n",
    "Compute terms of the summation until the last term is smaller than 1e-15 (which is Python notation for $10^{−15}$). You can check the result by comparing it to `math.pi`."
   ]
  },
  {
   "cell_type": "code",
   "execution_count": 8,
   "metadata": {
    "slideshow": {
     "slide_type": "fragment"
    }
   },
   "outputs": [],
   "source": [
    "def estimate_pi():\n",
    "    k = 0\n",
    "    cur = 0\n",
    "    incr = 1e6\n",
    "    while incr > 1e-15:\n",
    "        incr = m.factorial(4*k)*(1103+26390*k)/(m.factorial(k)**4 * 396**(4*k))\n",
    "        cur += incr\n",
    "        k+=1\n",
    "    return 2*m.sqrt(2)/9801 * cur"
   ]
  },
  {
   "cell_type": "code",
   "execution_count": 10,
   "metadata": {
    "slideshow": {
     "slide_type": "fragment"
    }
   },
   "outputs": [
    {
     "name": "stdout",
     "output_type": "stream",
     "text": [
      "3.141592653589793\n",
      "True\n"
     ]
    }
   ],
   "source": [
    "import math as m\n",
    "print(1/estimate_pi())\n",
    "print(1/estimate_pi() == m.pi)"
   ]
  },
  {
   "cell_type": "markdown",
   "metadata": {
    "slideshow": {
     "slide_type": "subslide"
    }
   },
   "source": [
    "### (From ThinkPython2e, 8.5)\n",
    "A Caesar cypher is a weak form of encryption that involves “rotating” each letter by a fixed number of places. To rotate a letter means to shift it through the alphabet, wrapping around to the beginning if necessary, so ’A’ rotated by 3 is ’D’ and ’Z’ rotated by 1 is ’A’.\n",
    "\n",
    "To rotate a word, rotate each letter by the same amount. For example, “cheer” rotated by 7 is “jolly” and “melon” rotated by -10 is “cubed”. In the movie 2001: A Space Odyssey, the ship computer is called HAL, which is IBM rotated by -1.\n",
    "\n",
    "Write a function called `rotate_word` that takes a string and an integer as parameters, and returns a new string that contains the letters from the original string rotated by the given amount.\n",
    "\n",
    "You might want to use the built-in function `ord`, which converts a character to a numeric code, and `chr`, which converts numeric codes to characters. Letters of the alphabet are encoded in alphabetical order, so for example:\n",
    "\n",
    "` ord('c') - ord('a')`\n",
    "\n",
    "Because 'c' is the two-eth letter of the alphabet. But beware: the numeric codes for upper case letters are different.\n",
    "\n",
    "Shift 1 by default.\n"
   ]
  },
  {
   "cell_type": "code",
   "execution_count": 42,
   "metadata": {
    "slideshow": {
     "slide_type": "fragment"
    }
   },
   "outputs": [],
   "source": [
    "# From ThinkPython2e\n",
    "\"\"\"This module contains a code example related to\n",
    "\n",
    "Think Python, 2nd Edition\n",
    "by Allen Downey\n",
    "http://thinkpython2.com\n",
    "\n",
    "Copyright 2015 Allen Downey\n",
    "\n",
    "License: http://creativecommons.org/licenses/by/4.0/\n",
    "\"\"\"\n",
    "\n",
    "from __future__ import print_function, division\n",
    "\n",
    "\n",
    "def rotate_letter(letter, n):\n",
    "    \"\"\"Rotates a letter by n places.  Does not change other chars.\n",
    "\n",
    "    letter: single-letter string\n",
    "    n: int\n",
    "\n",
    "    Returns: single-letter string\n",
    "    \"\"\"\n",
    "    if letter.isupper():\n",
    "        start = ord('A')\n",
    "    elif letter.islower():\n",
    "        start = ord('a')\n",
    "    else:\n",
    "        return letter\n",
    "\n",
    "    c = ord(letter) - start\n",
    "    i = (c + n) % 26 + start\n",
    "    return chr(i)\n",
    "\n",
    "\n",
    "def rotate_word(word, n):\n",
    "    \"\"\"Rotates a word by n places.\n",
    "\n",
    "    word: string\n",
    "    n: integer\n",
    "\n",
    "    Returns: string\n",
    "    \"\"\"\n",
    "    res = ''\n",
    "    for letter in word:\n",
    "        res += rotate_letter(letter, n)\n",
    "    return res\n"
   ]
  },
  {
   "cell_type": "code",
   "execution_count": 51,
   "metadata": {
    "slideshow": {
     "slide_type": "fragment"
    }
   },
   "outputs": [
    {
     "name": "stdout",
     "output_type": "stream",
     "text": [
      "True\n",
      "True\n"
     ]
    }
   ],
   "source": [
    "#Tests!\n",
    "print(rotate_word('Hello', 6) == 'Nkrru')\n",
    "print(rotate_word('Zany', 5) =='Efsd')"
   ]
  },
  {
   "cell_type": "markdown",
   "metadata": {
    "slideshow": {
     "slide_type": "slide"
    }
   },
   "source": [
    "### Counting words (this one may be difficult).\n",
    "Write a function, `word_frequency` that reads text from a file, and counts the frequency of each word, and prints out the n-most frequent words.\n",
    "\n",
    "The function should default to `the_raven.txt`, and 10 words.\n",
    "\n",
    "Bonus (**hard**)! (Not implemented below)\n",
    "To make sure you are super comfortable with plotting, plot the following:\n",
    "1. A histogram showing the frequency of words starting with each letter.\n",
    "2. Let the sum of a word be the sum of the ASCII value associated with each letter. Plot a histogram showing the frequency of words with various sums. Use 15 bins. "
   ]
  },
  {
   "cell_type": "code",
   "execution_count": 13,
   "metadata": {
    "scrolled": true,
    "slideshow": {
     "slide_type": "fragment"
    }
   },
   "outputs": [],
   "source": [
    "def word_frequency(fname = 'the_raven.txt', maxFreq=10):\n",
    "    fout = open(fname, 'r')\n",
    "    counter = {}\n",
    "    for line in fout:\n",
    "        cur = line.strip().lower()\n",
    "        for w in cur.split(' '):\n",
    "            if(not w.isalpha()):\n",
    "                while(len(w) > 0 and not w[-1].isalpha()):\n",
    "                    w = w[:-1]\n",
    "                while(len(w) > 0 and not w[0].isalpha()):\n",
    "                    w = w[1:]\n",
    "            if not w == '':\n",
    "                if w in counter.keys():\n",
    "                    counter[w]+=1\n",
    "                else:\n",
    "                    counter[w] = 1\n",
    "    x = counter.items()\n",
    "    sorter = []\n",
    "    for i in x:\n",
    "        sorter.append([i[1], i[0]])\n",
    "    x = sorted(sorter)[::-1]\n",
    "    print(x[0:maxFreq])"
   ]
  },
  {
   "cell_type": "code",
   "execution_count": 14,
   "metadata": {},
   "outputs": [
    {
     "name": "stdout",
     "output_type": "stream",
     "text": [
      "[[58, 'the'], [38, 'and'], [32, 'i'], [24, 'my'], [21, 'of'], [17, 'this'], [17, 'that'], [15, 'a'], [14, 'door'], [11, 'raven']]\n",
      "[[8023, 'the'], [4981, 'and'], [4008, 'of'], [3478, 'to'], [2942, 'a'], [2593, 'in'], [2031, 'it'], [2011, 'his'], [1939, 'i'], [1909, 'that'], [1838, 'he'], [1773, 'was'], [1399, 'you'], [1310, 'with'], [1305, 'had']]\n"
     ]
    }
   ],
   "source": [
    "word_frequency()\n",
    "word_frequency('tale_of_two_cities.txt', 15)"
   ]
  },
  {
   "cell_type": "code",
   "execution_count": null,
   "metadata": {},
   "outputs": [],
   "source": []
  }
 ],
 "metadata": {
  "celltoolbar": "Slideshow",
  "kernelspec": {
   "display_name": "Python 3",
   "language": "python",
   "name": "python3"
  },
  "language_info": {
   "codemirror_mode": {
    "name": "ipython",
    "version": 3
   },
   "file_extension": ".py",
   "mimetype": "text/x-python",
   "name": "python",
   "nbconvert_exporter": "python",
   "pygments_lexer": "ipython3",
   "version": "3.7.1"
  },
  "rise": {
   "footer": "<center> Mitchell Abrams, 2019</center>",
   "livereveal": {
    "theme": "sky",
    "transition": "zoom"
   },
   "scroll": "True"
  },
  "toc": {
   "base_numbering": 1,
   "nav_menu": {},
   "number_sections": true,
   "sideBar": true,
   "skip_h1_title": false,
   "title_cell": "Table of Contents",
   "title_sidebar": "Contents",
   "toc_cell": false,
   "toc_position": {},
   "toc_section_display": true,
   "toc_window_display": false
  },
  "varInspector": {
   "cols": {
    "lenName": 16,
    "lenType": 16,
    "lenVar": 40
   },
   "kernels_config": {
    "python": {
     "delete_cmd_postfix": "",
     "delete_cmd_prefix": "del ",
     "library": "var_list.py",
     "varRefreshCmd": "print(var_dic_list())"
    },
    "r": {
     "delete_cmd_postfix": ") ",
     "delete_cmd_prefix": "rm(",
     "library": "var_list.r",
     "varRefreshCmd": "cat(var_dic_list()) "
    }
   },
   "types_to_exclude": [
    "module",
    "function",
    "builtin_function_or_method",
    "instance",
    "_Feature"
   ],
   "window_display": false
  }
 },
 "nbformat": 4,
 "nbformat_minor": 2
}
