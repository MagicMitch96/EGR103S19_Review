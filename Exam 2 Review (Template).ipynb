{
 "cells": [
  {
   "cell_type": "code",
   "execution_count": null,
   "metadata": {},
   "outputs": [],
   "source": [
    "import math as m\n",
    "import numpy as np\n",
    "import matplotlib.pyplot as plt\n",
    "from mpl_toolkits.mplot3d import axes3d\n",
    "import scipy.optimize as opt"
   ]
  },
  {
   "cell_type": "markdown",
   "metadata": {
    "slideshow": {
     "slide_type": "slide"
    }
   },
   "source": [
    "# EGR 103 Spring 2019\n",
    "# Exam 2 Review"
   ]
  },
  {
   "cell_type": "markdown",
   "metadata": {
    "slideshow": {
     "slide_type": "slide"
    }
   },
   "source": [
    "## Overview: Exam 1"
   ]
  },
  {
   "cell_type": "markdown",
   "metadata": {
    "slideshow": {
     "slide_type": "subslide"
    }
   },
   "source": [
    "### Commonly missed questions"
   ]
  },
  {
   "cell_type": "code",
   "execution_count": null,
   "metadata": {
    "slideshow": {
     "slide_type": "fragment"
    }
   },
   "outputs": [],
   "source": [
    "a = 17.0\n",
    "b = np.array([30, 40, 20, 50])\n",
    "c = 'Yay for Tests'\n",
    "d = [[1, 2], [3, 4], [5], [6, 7, 8, 9]]\n",
    "g = a // 5\n",
    "h = a % 5\n",
    "k = b[1:]\n",
    "#type(g)\n",
    "#type(h)\n",
    "#type(k)\n",
    "n = c[6:3:-1] #val, type\n",
    "#type(n)\n",
    "o = max(c)  #val\n",
    "s = d[1][1] #val\n",
    "t = d[2]*2  #val"
   ]
  },
  {
   "cell_type": "code",
   "execution_count": null,
   "metadata": {
    "slideshow": {
     "slide_type": "fragment"
    }
   },
   "outputs": [],
   "source": [
    "#Problem 4.1\n",
    "#Most common errors included: printing rolls incorrectly, looping incorrectly, and not returning\n",
    "#Problem 5 3x3\n",
    "#About a third of the class got this completely wrong\n",
    "#Problem 5 Least Squares"
   ]
  },
  {
   "cell_type": "markdown",
   "metadata": {
    "slideshow": {
     "slide_type": "slide"
    }
   },
   "source": [
    "## Logical Masks"
   ]
  },
  {
   "cell_type": "markdown",
   "metadata": {
    "slideshow": {
     "slide_type": "fragment"
    }
   },
   "source": [
    "- Parentheses are critical!\n",
    "- & and | are critical!\n",
    "\n",
    "When do you use logical masks? Most obvious use case is for a piecewise function, but it can be used to assign a desired value (mask) to a subset of values in a list or array (satisfying some arbitrary logical statement)"
   ]
  },
  {
   "cell_type": "markdown",
   "metadata": {
    "slideshow": {
     "slide_type": "subslide"
    }
   },
   "source": [
    "Example:\n",
    "\n",
    "The Heaviside function $H(x)$ (also known as the unit step function) can be represented either as:\n",
    "\n",
    "$$ H(x) = \\left\\{\n",
    "        \\begin{array}{ll}\n",
    "            0 & \\quad x < 0 \\\\\n",
    "            1 & \\quad x \\geq 0\n",
    "        \\end{array}\n",
    "    \\right.\n",
    "    $$\n",
    "    \n",
    "or as \n",
    "\n",
    "$$ H(x) = \\left\\{\n",
    "        \\begin{array}{ll}\n",
    "            0 & \\quad x < 0 \\\\\n",
    "            1/2 & \\quad x = 0 \\\\\n",
    "            1 & \\quad x > 0\n",
    "        \\end{array}\n",
    "    \\right.\n",
    "    $$\n",
    "\n",
    "A logical mask could be used to represent $H(x)$"
   ]
  },
  {
   "cell_type": "code",
   "execution_count": null,
   "metadata": {
    "slideshow": {
     "slide_type": "fragment"
    }
   },
   "outputs": [],
   "source": [
    "x = np.linspace(-5, 5, 100)\n",
    "hMask0 = (x<0)\n",
    "hMask1 = (x>=0)\n",
    "hVal0 = 0\n",
    "hVal1 = 1\n",
    "heaviside = hMask0*hVal0 + hMask1*hVal1\n",
    "plt.plot(x, heaviside, 'o')"
   ]
  },
  {
   "cell_type": "markdown",
   "metadata": {
    "slideshow": {
     "slide_type": "slide"
    }
   },
   "source": [
    "## Dictionaries"
   ]
  },
  {
   "cell_type": "markdown",
   "metadata": {
    "slideshow": {
     "slide_type": "subslide"
    }
   },
   "source": [
    "Example: A dictionary of people you know, with how old they are\n",
    "\n",
    "|  Friend | Age |\n",
    "|:-------:|:---:|\n",
    "| Andria  |  20 |\n",
    "| Samuel  |  19 |\n",
    "| Noreen  |  20 |\n",
    "| Lourdes |  22 |\n",
    "| Charley |  23 |"
   ]
  },
  {
   "cell_type": "code",
   "execution_count": null,
   "metadata": {
    "slideshow": {
     "slide_type": "fragment"
    }
   },
   "outputs": [],
   "source": []
  },
  {
   "cell_type": "code",
   "execution_count": null,
   "metadata": {
    "code_folding": [],
    "slideshow": {
     "slide_type": "skip"
    }
   },
   "outputs": [],
   "source": [
    "# Create a dictionary\n",
    "friends = {'Andria': 20,\n",
    "           'Samuel': 19,\n",
    "           'Noreen': 20,\n",
    "           'Lourdes': 22,\n",
    "           'Charley': 23}\n",
    "# Add a new friend:\n",
    "friends['Teddy'] = 22\n",
    "# Update value: Samuel had a birthday!\n",
    "friends['Samuel']+=1\n",
    "'Andria' in friends\n",
    "'James' in friends\n",
    "friends.setdefault('Joe', 40)\n",
    "friends.setdefault('Andria', 40)"
   ]
  },
  {
   "cell_type": "markdown",
   "metadata": {
    "slideshow": {
     "slide_type": "slide"
    }
   },
   "source": [
    "## Strings and Files"
   ]
  },
  {
   "cell_type": "code",
   "execution_count": null,
   "metadata": {
    "code_folding": [],
    "slideshow": {
     "slide_type": "subslide"
    }
   },
   "outputs": [],
   "source": [
    "st = 'Alphabet'\n",
    "## Given a letter, what is the ASCII representation?\n",
    "for ch in st:\n",
    "    print(ord(ch))\n",
    "## Given a number, what is the ASCII character?\n",
    "for n in range(0,255):\n",
    "    print(n, chr(n))"
   ]
  },
  {
   "cell_type": "code",
   "execution_count": null,
   "metadata": {
    "slideshow": {
     "slide_type": "subslide"
    }
   },
   "outputs": [],
   "source": []
  },
  {
   "cell_type": "code",
   "execution_count": null,
   "metadata": {
    "slideshow": {
     "slide_type": "fragment"
    }
   },
   "outputs": [],
   "source": [
    "# Loading data from file -- typically either .dat or .csv\n",
    "# Data from FBI report on crime, 1997-2016\n",
    "# First column: year\n",
    "# Second column: Population\n",
    "# Third: total number of Violent crimes\n",
    "# Fourth: Number of Murders\n",
    "# Fifth: Number of Robberies\n",
    "data = np.loadtxt('fbiData.csv',skiprows=1, delimiter=',')\n",
    "\n",
    "#Split this into row vectors\n",
    "#Plot population vs. year\n",
    "#Plot violent crime vs. year\n",
    "#Plot violent crime vs. population\n",
    "#Plot murder v. robbery\n"
   ]
  },
  {
   "cell_type": "markdown",
   "metadata": {
    "slideshow": {
     "slide_type": "slide"
    }
   },
   "source": [
    "## Linear Algebra"
   ]
  },
  {
   "cell_type": "markdown",
   "metadata": {
    "slideshow": {
     "slide_type": "subslide"
    }
   },
   "source": [
    "### Calculate Determinants\n",
    "\n",
    "2x2 matrices:\n",
    "\n",
    "$$A = \\begin{bmatrix} \n",
    "a & b \\\\\n",
    "c & d \n",
    "\\end{bmatrix}$$\n",
    "\n",
    "$$\\det(A) = ad - bc $$\n",
    "\n",
    "3x3 matrices:\n",
    "\n",
    "$$B = \\begin{bmatrix} \n",
    "a & b & c\\\\\n",
    "d & e & f\\\\\n",
    "g & h & i\n",
    "\\end{bmatrix}$$\n",
    "\n",
    "\n",
    "$$\\det(B) = a\\times\\det\\begin{pmatrix} \n",
    "e & f \\\\\n",
    "h & i \n",
    "\\end{pmatrix} -\n",
    "b\\times\\det\\begin{pmatrix} \n",
    "d & f \\\\\n",
    "g & i \n",
    "\\end{pmatrix} +\n",
    "c\\times\\det\\begin{pmatrix} \n",
    "d & e \\\\\n",
    "g & h \n",
    "\\end{pmatrix}$$\n",
    "\n",
    "$$\\det(B) = a(ei-fh)-b(di-fg)+c(dh-eg)$$"
   ]
  },
  {
   "cell_type": "markdown",
   "metadata": {
    "slideshow": {
     "slide_type": "subslide"
    }
   },
   "source": [
    "### Inverses\n",
    "\n",
    "2x2 matrix:\n",
    "\n",
    "$$A = \\begin{bmatrix} \n",
    "a & b \\\\\n",
    "c & d \n",
    "\\end{bmatrix}$$\n",
    "\n",
    "$$ A^{-1} = \\frac{1}{\\det(A)}\\begin{bmatrix} \n",
    "d & -b \\\\\n",
    "-c & a \n",
    "\\end{bmatrix}$$\n"
   ]
  },
  {
   "cell_type": "code",
   "execution_count": null,
   "metadata": {
    "slideshow": {
     "slide_type": "subslide"
    }
   },
   "outputs": [],
   "source": [
    "A = np.array([[15, 5, 10], \n",
    "              [1, 2, 6],\n",
    "              [5, 9, -3]])\n",
    "#Calculate determinant and inverse of A\n",
    "detA = #FILL IN\n",
    "invA = #FILL IN"
   ]
  },
  {
   "cell_type": "markdown",
   "metadata": {
    "slideshow": {
     "slide_type": "subslide"
    }
   },
   "source": [
    "Example: Equations to Matrix form (From Fall 2018 Exam 2)\n",
    "\n",
    "Three masses $M_i$ are at stationary positions $x_i$ and are connected by a series of large springs with known spring constants $K_1$ through $K_4$. The position of the last mass, $x_3$, is known but neither the positions of the first two masses ($x_1$ and $x_2$) are known nor is the amount of force $F$ required to get mass 3 where it is. The equilibrium equations for the positions of the masses as functions of the applied forces are:\n",
    "\n",
    "$$\\begin{align*}\n",
    "K_1x_1+K_2x_1 - K_2x_2 &= 0\\\\\n",
    "-K_2x_1+K_2x_2+K_3x_2-K_3x_3&=0\\\\\n",
    "-K_3x_2+K_3x_3+K_4x_3-F&=0\n",
    "\\end{align*}$$\n",
    "\n",
    "Rearrange and write the above in matrix form."
   ]
  },
  {
   "cell_type": "code",
   "execution_count": null,
   "metadata": {},
   "outputs": [],
   "source": [
    "# Solving the above system of equations: Assume K1=5, K2=1, K3=2, K4=15\n",
    "# Setup in form: Ax = b\n",
    "A = #FILL IN\n",
    "b = #FILL IN\n",
    "\n",
    "x = #SOLVE HERE"
   ]
  },
  {
   "cell_type": "markdown",
   "metadata": {
    "slideshow": {
     "slide_type": "slide"
    }
   },
   "source": [
    "### Sweep through possible parameter changes\n"
   ]
  },
  {
   "cell_type": "code",
   "execution_count": null,
   "metadata": {
    "slideshow": {
     "slide_type": "fragment"
    }
   },
   "outputs": [],
   "source": []
  },
  {
   "cell_type": "markdown",
   "metadata": {
    "slideshow": {
     "slide_type": "subslide"
    }
   },
   "source": [
    "### Norms\n",
    "\n",
    "#### 1D Arrays (Vectors)\n",
    "\n",
    "- 1-Norm: $$||\\vec{v}||_1 = \\sum_{i=1}^n|x_i|$$\n",
    "- 2-Norm: $$||\\vec{v}||_2 = \\sqrt{\\sum_{i=1}^n x_i^2}$$\n",
    "- $\\inf$-Norm: $$||\\vec{v}||_{\\inf} = \\underset{1\\leq i\\leq n}{\\max} |x_i|$$\n",
    "\n",
    "#### 2D Arrays (Matrices)\n",
    "\n",
    "- 1-Norm: $$||A||_1 = \\max_{j}\\sum_{i=1}^n|a_{ij}|$$\n",
    "- $\\inf$-Norm: $$||A||_{\\inf} = \\max_i \\sum_{j=1}^n|a_{ij}|$$\n",
    "- Frobenius-Norm: $$||A||_{fro} = \\sqrt{\\sum_{j=1}^m\\sum_{i=1}^n a_{ij}^2}$$\n",
    "\n",
    "What are these? 1-Norm is the maximum column sum, Inf-Norm is maximum row sum. 2-norm "
   ]
  },
  {
   "cell_type": "code",
   "execution_count": null,
   "metadata": {
    "slideshow": {
     "slide_type": "fragment"
    }
   },
   "outputs": [],
   "source": [
    "# Norms and Condition Numbers\n",
    "# Computing these is easy: just use linalg\n",
    "\n",
    "v = np.array([1, 2, 3, 4, 5, 6])\n",
    "v1norm = np.linalg.norm(v, ord=1)\n",
    "v2norm =\n",
    "vINFnorm =\n",
    "\n",
    "A = np.array([[1, 2, 3],\n",
    "              [4, 5, 6],\n",
    "              [7, 8, 9]])\n",
    "A1norm = \n",
    "AFROnorm =\n",
    "AINFnorm =\n",
    "A2norm =\n"
   ]
  },
  {
   "cell_type": "markdown",
   "metadata": {
    "slideshow": {
     "slide_type": "subslide"
    }
   },
   "source": [
    "### Condition Numbers\n",
    "\n",
    "$$\\mathrm{cond}(A) = ||A||\\cdot||A^{-1}||$$\n",
    "\n",
    "Take the matrix, calculate the inverse, then find the condition number of the original ($A$) and inverse ($A^{-1}$) and multiply them. \n",
    "\n",
    "What is a condition number? Condition numbers have to deal with accuracy of your system.\n",
    "\n",
    "_From Pundit:_\n",
    "\n",
    "A condition number of a matrix gives an idea of the sensitivity of the solution relative to the sensitivity of the measurements. The larger the condition number, the more difficult the geometry and thus the more prone to error the results are to measurement errors. The rule of thumb is that your final answer will have as many digits of precision as the number of digits in your measurements minus the base-10 logarithm of the condition number.\n",
    "\n",
    "For instance, if you take measurements to 5 significant figures and your system has a condition number of 100, you expectation is that your solution is accurate to $5-\\log_{10}(100)=5-2=3$ digits.\n",
    "\n",
    "You generally report ranges of digits if the condition number is not an integer power of 10. For instance, if you know your measurements to 9 figures and your condition number of 485, $\\log_{10}(485)=2.69$ so you will lose between 2 and 3 digits of precision meaning you know your final answers to within 6-7 digits (9 minus 2 or 3)."
   ]
  },
  {
   "cell_type": "code",
   "execution_count": null,
   "metadata": {
    "slideshow": {
     "slide_type": "fragment"
    }
   },
   "outputs": [],
   "source": [
    "#Calculating condition numbers\n",
    "\n",
    "A = np.array([[1, 2, 3],\n",
    "              [4, 5, 6],\n",
    "              [7, 8, 9]])\n",
    "aCond1 = np.linalg.cond(A, p=np.inf)\n",
    "aCond2 =\n",
    "aCondInf =\n",
    "aCondFro ="
   ]
  },
  {
   "cell_type": "markdown",
   "metadata": {
    "slideshow": {
     "slide_type": "slide"
    }
   },
   "source": [
    "## Curve Fitting"
   ]
  },
  {
   "cell_type": "markdown",
   "metadata": {
    "slideshow": {
     "slide_type": "subslide"
    }
   },
   "source": [
    "### Polynomial Fit\n",
    "\n",
    "This is the easiest of the fits we cover: you are simply fitting to a polynomial expression, of some set degree.\n",
    "\n",
    "Here, we have been using the following variables:\n",
    "\n",
    "- ```p``` the coefficients of the polynomial fit\n",
    "- ```yhat``` the y values given by evaluating the original x values in the polynomial expression\n",
    "- ```xmodel``` a continuous series of x values to test the model with\n",
    "- ```ymodel``` y values for a continuous series of x values"
   ]
  },
  {
   "cell_type": "code",
   "execution_count": null,
   "metadata": {
    "slideshow": {
     "slide_type": "fragment"
    }
   },
   "outputs": [],
   "source": [
    "#For some x, y, and n as the degree of the fit\n",
    "p = np.polyfit(x, y, n)\n",
    "\n",
    "yhat = np.polyval(p, x)\n",
    "ymodel = np.polyval(p, xmodel)\n"
   ]
  },
  {
   "cell_type": "markdown",
   "metadata": {
    "slideshow": {
     "slide_type": "subslide"
    }
   },
   "source": [
    "### Linear Regressions"
   ]
  },
  {
   "cell_type": "markdown",
   "metadata": {
    "slideshow": {
     "slide_type": "fragment"
    }
   },
   "source": [
    "The equation built by linear regressions is: \n",
    "\n",
    "$$\\hat{y}(x)=\\sum_{j=1}^{M}c_j\\phi_j(x)$$\n",
    "\n",
    "where $c_j$ are the coefficients of the fit and the $\\phi_j$ are the specific functions of the independent variable that make up the fit.\n",
    "\n",
    "Example: a generic polynomial fit could be of the form $y = c_0\\phi_0(x) + c_1\\phi_1(x) + c_2\\phi_2(x)$, where $\\phi_0(x) = x^2$, $\\phi_1(x) = x^1$, $\\phi_2(x) = x^0$.\n",
    "\n",
    "When we do this, our ```yfun``` is used to evaluate values __after__ we solve for our fit.\n",
    "\n",
    "The linear least squares regression takes in a matrix, which is why we use np.block."
   ]
  },
  {
   "cell_type": "code",
   "execution_count": null,
   "metadata": {
    "slideshow": {
     "slide_type": "fragment"
    }
   },
   "outputs": [],
   "source": [
    "# This is the general way to solve for a linear regression:\n",
    "def yfun(xe, coefs):\n",
    "    return coefs[0] * x**1 + coefs[1] * x**0 #THIS IS ANY FUNCTION\n",
    "\n",
    "xv = np.reshape(x, (-1, 1))\n",
    "yv = np.reshape(y, (-1, 1))\n",
    "a_mat = np.block([[xv**1, xv**0]])\n",
    "pvec = np.linalg.lstsq(a_mat, yv, rcond=None)[0]\n",
    "\n",
    "yhat = yfun(x, pvec)\n",
    "ymodel = yfun(xmodel, pvec)\n"
   ]
  },
  {
   "cell_type": "markdown",
   "metadata": {
    "slideshow": {
     "slide_type": "subslide"
    }
   },
   "source": [
    "### Nonlinear Regression"
   ]
  },
  {
   "cell_type": "markdown",
   "metadata": {
    "slideshow": {
     "slide_type": "fragment"
    }
   },
   "source": [
    "Steps for a nonlinear regression:\n",
    "\n",
    "1. Define function: what is the function that models the behavior exhibited by your data?\n",
    "2. Determine initial conditions: take a look at the data, and intuit from there\n",
    "3. Run the optimization curve fit to get your optimized coefficients"
   ]
  },
  {
   "cell_type": "code",
   "execution_count": null,
   "metadata": {
    "slideshow": {
     "slide_type": "fragment"
    }
   },
   "outputs": [],
   "source": [
    "def yfun(x, *coefs):\n",
    "    return coefs[0] * x**1 + coefs[1] * x**0\n",
    "\n",
    "ICs = #Initial Conditions\n",
    "popt = opt.curve_fit(yfun, x, y, ICs)[0]\n",
    "print(popt)\n",
    "\n",
    "# %% Generate estimates and model\n",
    "yhat = yfun(x, *popt)\n",
    "ymodel = yfun(xmodel, *popt)"
   ]
  },
  {
   "cell_type": "markdown",
   "metadata": {
    "cell_style": "split",
    "slideshow": {
     "slide_type": "subslide"
    }
   },
   "source": [
    "### Calculating Statistics\n",
    "\n",
    "Residual Sum of Squares\n",
    "$$ s_r = \\sum(y_i - \\hat{y})^2$$\n",
    "\n",
    "Sum of squares of estimate residuals\n",
    "$$ s_t = \\sum(y_i - \\mathrm{mean}(y))^2$$\n",
    "\n",
    "Coefficient of Determination ($R^2$)\n",
    "$$ R^2 = \\frac{s_t - s_r}{s_t}$$"
   ]
  },
  {
   "cell_type": "code",
   "execution_count": null,
   "metadata": {
    "slideshow": {
     "slide_type": "fragment"
    }
   },
   "outputs": [],
   "source": [
    "st = np.sum((y - np.mean(y))**2)\n",
    "sr = np.sum((y - yhat)**2)\n",
    "r2 = (st - sr) / st"
   ]
  },
  {
   "cell_type": "markdown",
   "metadata": {
    "slideshow": {
     "slide_type": "slide"
    }
   },
   "source": [
    "## Surfaces"
   ]
  },
  {
   "cell_type": "markdown",
   "metadata": {
    "slideshow": {
     "slide_type": "subslide"
    }
   },
   "source": [
    "Surface plots are used for three-dimensional functions -- instead of $y(x)$ we have $z(x,y)$"
   ]
  },
  {
   "cell_type": "code",
   "execution_count": null,
   "metadata": {
    "slideshow": {
     "slide_type": "fragment"
    }
   },
   "outputs": [],
   "source": [
    "#np.meshgrid, np.arange, np.linspace\n",
    "\n",
    "a = np.arange(0, 10, 1)\n",
    "b = np.linspace(0,10,11)\n",
    "a,b\n",
    "\n",
    "c = np.meshgrid(a, b)\n",
    "c"
   ]
  },
  {
   "cell_type": "code",
   "execution_count": null,
   "metadata": {
    "scrolled": true,
    "slideshow": {
     "slide_type": "subslide"
    }
   },
   "outputs": [],
   "source": [
    "x = np.linspace(-1, 1, 100)\n",
    "y = np.linspace(-1, 1, 100)\n",
    "X, Y = np.meshgrid(x, y)\n",
    "Z = X**2 + Y**2\n",
    "\n",
    "fig = plt.figure(num=1)\n",
    "fig.clf()\n",
    "ax = fig.add_subplot(1, 1, 1, projection='3d')\n",
    "\n",
    "\n",
    "ax.plot_surface(X,Y,Z)\n",
    "ax.set(xlabel='x', ylabel='y', zlabel='z', title='$z = x^2 + y^2$')\n",
    "\n",
    "fig.tight_layout()"
   ]
  },
  {
   "cell_type": "code",
   "execution_count": null,
   "metadata": {
    "scrolled": true,
    "slideshow": {
     "slide_type": "subslide"
    }
   },
   "outputs": [],
   "source": [
    "fig = plt.figure(num=2)\n",
    "fig.clf()\n",
    "ax = fig.add_subplot(1, 1, 1, projection='3d')\n",
    "\n",
    "\n",
    "ax.plot_wireframe(X,Y,Z)\n",
    "ax.set(xlabel='x', ylabel='y', zlabel='z', title='$z = x^2 + y^2$')\n",
    "\n",
    "fig.tight_layout()"
   ]
  },
  {
   "cell_type": "code",
   "execution_count": null,
   "metadata": {
    "slideshow": {
     "slide_type": "fragment"
    }
   },
   "outputs": [],
   "source": [
    "'''\n",
    "ax.set(xlabel='x', \n",
    "       ylabel='y', \n",
    "       zlabel='z',\n",
    "       xlim = [-4, 4],\n",
    "       ylim = [-4, 4],\n",
    "       zlim = [-4, 4],\n",
    "       xticks = [-4, -2, 2, 4],\n",
    "       yticks = [-4, -2, 2, 4],\n",
    "       zticks = [-1, 0, 1],\n",
    "       title='Donut!')\n",
    "'''"
   ]
  },
  {
   "cell_type": "markdown",
   "metadata": {
    "slideshow": {
     "slide_type": "slide"
    }
   },
   "source": [
    "## Finding Roots"
   ]
  },
  {
   "cell_type": "markdown",
   "metadata": {
    "slideshow": {
     "slide_type": "subslide"
    }
   },
   "source": [
    "For the exam, given a continuous function, you will need to be able to find roots. To do this, you need to be able to find a bracket: this will be do-able given the information. Roots are places the function = 0."
   ]
  },
  {
   "cell_type": "code",
   "execution_count": null,
   "metadata": {
    "slideshow": {
     "slide_type": "fragment"
    }
   },
   "outputs": [],
   "source": [
    "r1 = opt.brentq(lambda x: x**2+3*x-4, -5, -3)\n",
    "r2 = opt.brentq(lambda x: x**2+3*x-4, 0, 3)\n",
    "r1, r2"
   ]
  },
  {
   "cell_type": "code",
   "execution_count": null,
   "metadata": {
    "slideshow": {
     "slide_type": "fragment"
    }
   },
   "outputs": [],
   "source": [
    "def fun(x):\n",
    "    return x**2+3*x-4\n",
    "\n",
    "r1 = opt.brentq(fun, -4, -2)\n",
    "r2 = opt.brentq(fun, 0, 3)"
   ]
  },
  {
   "cell_type": "markdown",
   "metadata": {
    "slideshow": {
     "slide_type": "slide"
    }
   },
   "source": [
    "## Finding Extrema"
   ]
  },
  {
   "cell_type": "markdown",
   "metadata": {
    "slideshow": {
     "slide_type": "subslide"
    }
   },
   "source": [
    "Two main functions to use:\n",
    "\n",
    "```fminbound``` -- The fminbound command can find a single value of a single variable that minimizes a function in a bounded interval. \n",
    "\n",
    "In: function, left bound, right bound.\n",
    "\n",
    "Out: value of x that reaches minumum, value of f(x) at minimum, flag if it worked (0, 1), number of times called to get minimum.\n",
    "\n",
    "```fmin``` -- If you have a multi-variable function, you can solve for the minimum using the unbounded minimization function fmin. The function needs all your variables to be contained in a single list or array, however. Give it: \n",
    "\n",
    "\n",
    "Main difference: fminbound is great for single variable functions, in the form f(x), while fmin is useful for an arbitrary number of arguments, like f(x,y,z,...)"
   ]
  },
  {
   "cell_type": "code",
   "execution_count": 52,
   "metadata": {
    "slideshow": {
     "slide_type": "fragment"
    }
   },
   "outputs": [
    {
     "data": {
      "text/plain": [
       "(3.1415926891518526, (3.1415926891518526, -0.9999999999999993, 0, 9))"
      ]
     },
     "execution_count": 52,
     "metadata": {},
     "output_type": "execute_result"
    }
   ],
   "source": [
    "def fun(x):\n",
    "    return np.cos(x)\n",
    "\n",
    "out1 = opt.fminbound(fun, 0, 6)\n",
    "out4 = opt.fminbound(fun, 0, 6, full_output=True)\n",
    "out1, out4"
   ]
  },
  {
   "cell_type": "code",
   "execution_count": 55,
   "metadata": {
    "slideshow": {
     "slide_type": "fragment"
    }
   },
   "outputs": [
    {
     "name": "stdout",
     "output_type": "stream",
     "text": [
      "Optimization terminated successfully.\n",
      "         Current function value: 0.750000\n",
      "         Iterations: 47\n",
      "         Function evaluations: 92\n"
     ]
    }
   ],
   "source": [
    "def f(x, y):\n",
    "    return 2 + x - y + 2*x**2 + 2*x*y + y**2\n",
    "\n",
    "min_loc = opt.fmin(lambda vec: f(vec[0], vec[1]), [0.5, 2.0])\n",
    "\n",
    "min_val = f(*min_loc)\n"
   ]
  },
  {
   "cell_type": "markdown",
   "metadata": {
    "slideshow": {
     "slide_type": "slide"
    }
   },
   "source": [
    "# Exercises"
   ]
  },
  {
   "cell_type": "markdown",
   "metadata": {
    "slideshow": {
     "slide_type": "subslide"
    }
   },
   "source": [
    "## Exercise 1 –– Basic Strings\n",
    "\n",
    "(From w3resource.com)\n",
    "\n",
    "Write a python function, ```letter_count``` to return the count of each letter in a string.\n",
    "\n",
    "Input: A string of any length (len$\\geq$0)\n",
    "\n",
    "Output: A reasonable data structure (either a dictionary or a list).\n",
    "\n",
    "Extra: Your function should return a data structure with _only_ the letters present in the string. "
   ]
  },
  {
   "cell_type": "code",
   "execution_count": null,
   "metadata": {
    "slideshow": {
     "slide_type": "fragment"
    }
   },
   "outputs": [],
   "source": [
    "def letter_count(str):\n",
    "    "
   ]
  },
  {
   "cell_type": "markdown",
   "metadata": {
    "slideshow": {
     "slide_type": "subslide"
    }
   },
   "source": [
    "## Exercise 2 –– Strings and Files\n",
    "\n",
    "Write a function, ```whole_alphabet``` that takes in a file name, and returns how many letters need to be read before encountering every letter in the alphabet. Ignore letter case. \n",
    "\n",
    "Input: file name\n",
    "\n",
    "Output: index of letter that gives the whole alphabet, or -1 if not all letters present.\n"
   ]
  },
  {
   "cell_type": "code",
   "execution_count": null,
   "metadata": {
    "slideshow": {
     "slide_type": "fragment"
    }
   },
   "outputs": [],
   "source": []
  },
  {
   "cell_type": "markdown",
   "metadata": {
    "slideshow": {
     "slide_type": "subslide"
    },
    "solution": "shown",
    "solution_first": true
   },
   "source": [
    "## Exercise 3 –– More Files and Strings\n",
    "\n",
    "Write a function to read in a file, and output every other word to a new file. The new file should be called OLDNAME_cpy.txt.\n"
   ]
  },
  {
   "cell_type": "code",
   "execution_count": null,
   "metadata": {
    "slideshow": {
     "slide_type": "fragment"
    }
   },
   "outputs": [],
   "source": []
  },
  {
   "cell_type": "code",
   "execution_count": null,
   "metadata": {
    "slideshow": {
     "slide_type": "fragment"
    }
   },
   "outputs": [],
   "source": [
    "def filecp_half(fOld):\n",
    "    fTXT = open(fOld, 'r')\n",
    "    fNew = fOld.split('.')\n",
    "    fNewName = fNew[0] + '_cpy.txt'\n",
    "    fNew = open(fNewName ,'w')\n",
    "    flag = True\n",
    "    for line in fTXT:\n",
    "        for word in line.split():\n",
    "            if flag:\n",
    "                fNew.write(word + ' ')\n",
    "                flag = False\n",
    "            else:\n",
    "                flag = True\n",
    "    fTXT.close()         \n",
    "    return fNewName\n",
    "\n",
    "\n",
    "f = open(filecp_half('the_raven.txt'))\n",
    "for line in f:\n",
    "    print(line)"
   ]
  },
  {
   "cell_type": "code",
   "execution_count": null,
   "metadata": {
    "solution2": "hidden",
    "solution2_first": true
   },
   "outputs": [],
   "source": [
    "def filecp_half(fOld):\n",
    "    fTXT = open(fOld, 'r')\n",
    "    fNew = fOld.split('.')\n",
    "    fNewName = fNew[0] + '_cpy.txt'\n",
    "    fNew = open(fNewName ,'w')\n",
    "    flag = True\n",
    "    for line in fTXT:\n",
    "        for word in line.split():\n",
    "            if flag:\n",
    "                fNew.write(word + ' ')\n",
    "                flag = False\n",
    "            else:\n",
    "                flag = True\n",
    "    fTXT.close()         \n",
    "    return fNewName\n",
    "\n",
    "\n",
    "f = open(filecp_half('the_raven.txt'))\n",
    "for line in f:\n",
    "    print(line)"
   ]
  }
 ],
 "metadata": {
  "celltoolbar": "Slideshow",
  "kernelspec": {
   "display_name": "Python 3",
   "language": "python",
   "name": "python3"
  },
  "varInspector": {
   "cols": {
    "lenName": 16,
    "lenType": 16,
    "lenVar": 40
   },
   "kernels_config": {
    "python": {
     "delete_cmd_postfix": "",
     "delete_cmd_prefix": "del ",
     "library": "var_list.py",
     "varRefreshCmd": "print(var_dic_list())"
    },
    "r": {
     "delete_cmd_postfix": ") ",
     "delete_cmd_prefix": "rm(",
     "library": "var_list.r",
     "varRefreshCmd": "cat(var_dic_list()) "
    }
   },
   "types_to_exclude": [
    "module",
    "function",
    "builtin_function_or_method",
    "instance",
    "_Feature"
   ],
   "window_display": false
  }
 },
 "nbformat": 4,
 "nbformat_minor": 2
}
